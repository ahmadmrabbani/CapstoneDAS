{
 "cells": [
  {
   "cell_type": "markdown",
   "metadata": {},
   "source": [
    "# Quiz: Data Wrangling and Visualization\n",
    "\n",
    "Congratulations on completing the Data Wrangling and Visualization course! We will conduct an assessment quiz to test your competencies about the material that you have learned in the course. The quiz is expected to be taken in the classroom, please contact our teaching team if you missed the chance to take it in class."
   ]
  },
  {
   "cell_type": "code",
   "execution_count": 1,
   "metadata": {},
   "outputs": [],
   "source": [
    "import pandas as pd\n",
    "import numpy as np\n",
    "import matplotlib as plt"
   ]
  },
  {
   "cell_type": "code",
   "execution_count": 2,
   "metadata": {},
   "outputs": [
    {
     "data": {
      "text/plain": [
       "'1.3.4'"
      ]
     },
     "execution_count": 2,
     "metadata": {},
     "output_type": "execute_result"
    }
   ],
   "source": [
    "pd.__version__"
   ]
  },
  {
   "cell_type": "markdown",
   "metadata": {},
   "source": [
    "> **Warning**: Please make sure that you `pandas` version is 1.3.4 "
   ]
  },
  {
   "cell_type": "markdown",
   "metadata": {},
   "source": [
    "\n",
    "\n",
    "## Data Preparation\n",
    "\n",
    "In this quiz, the data we're going to use is **the invoice summary of transaction data** of an online retail shop provided from UCI Machine Learning [repository](https://archive.ics.uci.edu/ml/datasets/online+retail). All the transactions occurred between the end of 2010 to end of 2011 for a UK-based and registered non-store online retail:\n",
    "\n",
    "- `InvoiceNo`: unique invoice ID\n",
    "- `TotalPrice`: total price from the transactions\n",
    "- `UniqueItem`: number of the unique items bought per transaction/invoice\n",
    "- `CustomerID`: customer identification\n",
    "- `Country`: customer's country origin\n",
    "- `InvoiceDate`: date of transaction"
   ]
  },
  {
   "cell_type": "code",
   "execution_count": 3,
   "metadata": {
    "scrolled": true
   },
   "outputs": [
    {
     "data": {
      "text/html": [
       "<div>\n",
       "<style scoped>\n",
       "    .dataframe tbody tr th:only-of-type {\n",
       "        vertical-align: middle;\n",
       "    }\n",
       "\n",
       "    .dataframe tbody tr th {\n",
       "        vertical-align: top;\n",
       "    }\n",
       "\n",
       "    .dataframe thead th {\n",
       "        text-align: right;\n",
       "    }\n",
       "</style>\n",
       "<table border=\"1\" class=\"dataframe\">\n",
       "  <thead>\n",
       "    <tr style=\"text-align: right;\">\n",
       "      <th></th>\n",
       "      <th>UniqueItem</th>\n",
       "      <th>TotalPrice</th>\n",
       "      <th>CustomerID</th>\n",
       "      <th>Country</th>\n",
       "      <th>InvoiceDate</th>\n",
       "    </tr>\n",
       "    <tr>\n",
       "      <th>InvoiceNo</th>\n",
       "      <th></th>\n",
       "      <th></th>\n",
       "      <th></th>\n",
       "      <th></th>\n",
       "      <th></th>\n",
       "    </tr>\n",
       "  </thead>\n",
       "  <tbody>\n",
       "    <tr>\n",
       "      <th>536365</th>\n",
       "      <td>7</td>\n",
       "      <td>139.12</td>\n",
       "      <td>17850.0</td>\n",
       "      <td>United Kingdom</td>\n",
       "      <td>2010-12-01 08:26:00</td>\n",
       "    </tr>\n",
       "    <tr>\n",
       "      <th>536366</th>\n",
       "      <td>2</td>\n",
       "      <td>22.20</td>\n",
       "      <td>17850.0</td>\n",
       "      <td>United Kingdom</td>\n",
       "      <td>2010-12-01 08:28:00</td>\n",
       "    </tr>\n",
       "    <tr>\n",
       "      <th>536367</th>\n",
       "      <td>12</td>\n",
       "      <td>278.73</td>\n",
       "      <td>13047.0</td>\n",
       "      <td>United Kingdom</td>\n",
       "      <td>2010-12-01 08:34:00</td>\n",
       "    </tr>\n",
       "    <tr>\n",
       "      <th>536368</th>\n",
       "      <td>4</td>\n",
       "      <td>70.05</td>\n",
       "      <td>13047.0</td>\n",
       "      <td>United Kingdom</td>\n",
       "      <td>2010-12-01 08:34:00</td>\n",
       "    </tr>\n",
       "    <tr>\n",
       "      <th>536369</th>\n",
       "      <td>1</td>\n",
       "      <td>17.85</td>\n",
       "      <td>13047.0</td>\n",
       "      <td>United Kingdom</td>\n",
       "      <td>2010-12-01 08:35:00</td>\n",
       "    </tr>\n",
       "  </tbody>\n",
       "</table>\n",
       "</div>"
      ],
      "text/plain": [
       "           UniqueItem  TotalPrice  CustomerID         Country  \\\n",
       "InvoiceNo                                                       \n",
       "536365              7      139.12     17850.0  United Kingdom   \n",
       "536366              2       22.20     17850.0  United Kingdom   \n",
       "536367             12      278.73     13047.0  United Kingdom   \n",
       "536368              4       70.05     13047.0  United Kingdom   \n",
       "536369              1       17.85     13047.0  United Kingdom   \n",
       "\n",
       "                   InvoiceDate  \n",
       "InvoiceNo                       \n",
       "536365     2010-12-01 08:26:00  \n",
       "536366     2010-12-01 08:28:00  \n",
       "536367     2010-12-01 08:34:00  \n",
       "536368     2010-12-01 08:34:00  \n",
       "536369     2010-12-01 08:35:00  "
      ]
     },
     "execution_count": 3,
     "metadata": {},
     "output_type": "execute_result"
    }
   ],
   "source": [
    "invoice = pd.read_csv('data_input/retail_invoice.csv',index_col='InvoiceNo')\n",
    "invoice.head()"
   ]
  },
  {
   "cell_type": "markdown",
   "metadata": {},
   "source": [
    "Before you go any further, check the data type of each column using `dtypes` and make sure all of our columns have stored in the correct data type!"
   ]
  },
  {
   "cell_type": "code",
   "execution_count": 57,
   "metadata": {},
   "outputs": [
    {
     "data": {
      "text/plain": [
       "UniqueItem              int64\n",
       "TotalPrice            float64\n",
       "CustomerID            float64\n",
       "Country                object\n",
       "InvoiceDate    datetime64[ns]\n",
       "dtype: object"
      ]
     },
     "execution_count": 57,
     "metadata": {},
     "output_type": "execute_result"
    }
   ],
   "source": [
    "## Your code here\n",
    "invoice.dtypes"
   ]
  },
  {
   "cell_type": "code",
   "execution_count": 55,
   "metadata": {},
   "outputs": [],
   "source": [
    "invoice['InvoiceDate'] = invoice['InvoiceDate'].astype('datetime64')"
   ]
  },
  {
   "cell_type": "markdown",
   "metadata": {},
   "source": [
    "The company is planning for expansion and you were asked to observe their overseas market. Using any subsetting method you've learned, subset the data to get only **the transactions from countries (`Country`) outside the United Kingdom** and name it **`invoice_int`**!"
   ]
  },
  {
   "cell_type": "code",
   "execution_count": 54,
   "metadata": {},
   "outputs": [],
   "source": [
    "## Your code here\n",
    "invoice_nonuk = invoice['Country'] != 'United Kingdom'\n",
    "\n",
    "invoice_int = invoice[invoice_nonuk]"
   ]
  },
  {
   "cell_type": "code",
   "execution_count": 60,
   "metadata": {},
   "outputs": [
    {
     "data": {
      "text/html": [
       "<div>\n",
       "<style scoped>\n",
       "    .dataframe tbody tr th:only-of-type {\n",
       "        vertical-align: middle;\n",
       "    }\n",
       "\n",
       "    .dataframe tbody tr th {\n",
       "        vertical-align: top;\n",
       "    }\n",
       "\n",
       "    .dataframe thead th {\n",
       "        text-align: right;\n",
       "    }\n",
       "</style>\n",
       "<table border=\"1\" class=\"dataframe\">\n",
       "  <thead>\n",
       "    <tr style=\"text-align: right;\">\n",
       "      <th></th>\n",
       "      <th>UniqueItem</th>\n",
       "      <th>TotalPrice</th>\n",
       "      <th>CustomerID</th>\n",
       "      <th>Country</th>\n",
       "      <th>InvoiceDate</th>\n",
       "    </tr>\n",
       "    <tr>\n",
       "      <th>InvoiceNo</th>\n",
       "      <th></th>\n",
       "      <th></th>\n",
       "      <th></th>\n",
       "      <th></th>\n",
       "      <th></th>\n",
       "    </tr>\n",
       "  </thead>\n",
       "  <tbody>\n",
       "    <tr>\n",
       "      <th>536370</th>\n",
       "      <td>20</td>\n",
       "      <td>855.86</td>\n",
       "      <td>12583.0</td>\n",
       "      <td>France</td>\n",
       "      <td>2010-12-01 08:45:00</td>\n",
       "    </tr>\n",
       "    <tr>\n",
       "      <th>536389</th>\n",
       "      <td>14</td>\n",
       "      <td>358.25</td>\n",
       "      <td>12431.0</td>\n",
       "      <td>Australia</td>\n",
       "      <td>2010-12-01 10:03:00</td>\n",
       "    </tr>\n",
       "    <tr>\n",
       "      <th>536403</th>\n",
       "      <td>2</td>\n",
       "      <td>192.60</td>\n",
       "      <td>12791.0</td>\n",
       "      <td>Netherlands</td>\n",
       "      <td>2010-12-01 11:27:00</td>\n",
       "    </tr>\n",
       "    <tr>\n",
       "      <th>536527</th>\n",
       "      <td>15</td>\n",
       "      <td>261.48</td>\n",
       "      <td>12662.0</td>\n",
       "      <td>Germany</td>\n",
       "      <td>2010-12-01 13:04:00</td>\n",
       "    </tr>\n",
       "    <tr>\n",
       "      <th>536532</th>\n",
       "      <td>73</td>\n",
       "      <td>1919.14</td>\n",
       "      <td>12433.0</td>\n",
       "      <td>Norway</td>\n",
       "      <td>2010-12-01 13:24:00</td>\n",
       "    </tr>\n",
       "    <tr>\n",
       "      <th>...</th>\n",
       "      <td>...</td>\n",
       "      <td>...</td>\n",
       "      <td>...</td>\n",
       "      <td>...</td>\n",
       "      <td>...</td>\n",
       "    </tr>\n",
       "    <tr>\n",
       "      <th>558045</th>\n",
       "      <td>31</td>\n",
       "      <td>634.74</td>\n",
       "      <td>12615.0</td>\n",
       "      <td>France</td>\n",
       "      <td>2011-06-24 13:35:00</td>\n",
       "    </tr>\n",
       "    <tr>\n",
       "      <th>558046</th>\n",
       "      <td>30</td>\n",
       "      <td>542.20</td>\n",
       "      <td>NaN</td>\n",
       "      <td>EIRE</td>\n",
       "      <td>2011-06-24 13:47:00</td>\n",
       "    </tr>\n",
       "    <tr>\n",
       "      <th>558047</th>\n",
       "      <td>1</td>\n",
       "      <td>542.20</td>\n",
       "      <td>NaN</td>\n",
       "      <td>EIRE</td>\n",
       "      <td>2011-06-24 13:51:00</td>\n",
       "    </tr>\n",
       "    <tr>\n",
       "      <th>558067</th>\n",
       "      <td>37</td>\n",
       "      <td>930.71</td>\n",
       "      <td>14156.0</td>\n",
       "      <td>EIRE</td>\n",
       "      <td>2011-06-24 15:51:00</td>\n",
       "    </tr>\n",
       "    <tr>\n",
       "      <th>558069</th>\n",
       "      <td>4</td>\n",
       "      <td>69.60</td>\n",
       "      <td>14156.0</td>\n",
       "      <td>EIRE</td>\n",
       "      <td>2011-06-24 15:51:00</td>\n",
       "    </tr>\n",
       "  </tbody>\n",
       "</table>\n",
       "<p>859 rows × 5 columns</p>\n",
       "</div>"
      ],
      "text/plain": [
       "           UniqueItem  TotalPrice  CustomerID      Country         InvoiceDate\n",
       "InvoiceNo                                                                     \n",
       "536370             20      855.86     12583.0       France 2010-12-01 08:45:00\n",
       "536389             14      358.25     12431.0    Australia 2010-12-01 10:03:00\n",
       "536403              2      192.60     12791.0  Netherlands 2010-12-01 11:27:00\n",
       "536527             15      261.48     12662.0      Germany 2010-12-01 13:04:00\n",
       "536532             73     1919.14     12433.0       Norway 2010-12-01 13:24:00\n",
       "...               ...         ...         ...          ...                 ...\n",
       "558045             31      634.74     12615.0       France 2011-06-24 13:35:00\n",
       "558046             30      542.20         NaN         EIRE 2011-06-24 13:47:00\n",
       "558047              1      542.20         NaN         EIRE 2011-06-24 13:51:00\n",
       "558067             37      930.71     14156.0         EIRE 2011-06-24 15:51:00\n",
       "558069              4       69.60     14156.0         EIRE 2011-06-24 15:51:00\n",
       "\n",
       "[859 rows x 5 columns]"
      ]
     },
     "execution_count": 60,
     "metadata": {},
     "output_type": "execute_result"
    }
   ],
   "source": [
    "invoice_int"
   ]
  },
  {
   "cell_type": "markdown",
   "metadata": {},
   "source": [
    "## Total Revenue Analysis\n",
    "\n",
    "The country with the largest total revenue will be your company's target market. Therefore, using the `invoice_int` data, create a bar chart which shows the company's **top 5** largest market countries by **total** revenue (`TotalPrice`)!\n",
    "\n",
    "*Hint*:\n",
    "- Perform aggregation using `groupby` to get the total (`sum`) of revenue (`TotalPrice`) for each country and subset only the top 5 countries with the highest value.\n",
    "- Pair the data frame with `.plot()` to get a bar chart."
   ]
  },
  {
   "cell_type": "code",
   "execution_count": 47,
   "metadata": {
    "tags": []
   },
   "outputs": [
    {
     "data": {
      "text/plain": [
       "<AxesSubplot:ylabel='Country'>"
      ]
     },
     "execution_count": 47,
     "metadata": {},
     "output_type": "execute_result"
    },
    {
     "data": {
      "image/png": "[encoded data removed]",
      "text/plain": [
       "<Figure size 432x288 with 1 Axes>"
      ]
     },
     "metadata": {
      "needs_background": "light"
     },
     "output_type": "display_data"
    }
   ],
   "source": [
    "## Your code here\n",
    "invoice_int.groupby(by='Country').sum()[['TotalPrice']].sort_values(by='TotalPrice',ascending=True).plot.barh()"
   ]
  },
  {
   "cell_type": "markdown",
   "metadata": {},
   "source": [
    "1. When creating a bar chart, we should also consider what order in which we will plot the bars. Sorting the bars by the right order reduce the burden on the reader to make the comparisons. In what ordering do you think the bars within the case above should be presented?\n",
    "\n",
    "    *Saat membuat diagram batang (bar plot), kita juga harus mempertimbangkan urutan batangnya. Mengurutkan batang dengan urutan yang benar mengurangi beban pembaca untuk menyimpulkan perbandingannya. Menurut Anda, berdasarkan nilai apakah sebaiknya pengurutan diagram batang pada kasus di atas dilakukan?*\n",
    "\n",
    "    - [ ] by Country: `sort_values('Country', ascending = False).plot(kind='bar')`\n",
    "    - [X] by Country: `sort_values('Country').plot(kind='barh')`\n",
    "    - [ ] by Value: `sort_values('TotalPrice', ascending=False).plot(kind='bar')`\n",
    "    - [ ] by Value: `sort_values('TotalPrice').plot()`\n",
    "\n",
    "2. From the chart you just created, which of the following is **not** among the top 5 largest markets outside the United Kingdom?\n",
    "\n",
    "    *Berdasarkan diagram yang telah dibuat, manakah di antara negara berikut yang **bukan** merupakan top 5 (berdasarkan total pendapatan) pasar terbesar di luar United Kingdom?*\n",
    "    - [ ] Netherland\n",
    "    - [ ] EIRE\n",
    "    - [ ] Germany\n",
    "    - [X] Spain "
   ]
  },
  {
   "cell_type": "markdown",
   "metadata": {},
   "source": [
    "## Plot Replication\n",
    "\n",
    "A common way to inspect data statistically is by using boxplot, a handy visualization tool that provides five-number summary for your data. \n",
    "\n",
    "The boxplot below compares the monthly summary of each overseas market total revenue;\n",
    "- Each data point represents all of country total revenue (`TotalPrice`)\n",
    "- The x and y-axis represent the monthly period and total monthly revenue respectively.\n",
    "\n",
    "![](assets/task2.png)\n",
    "\n",
    "3. From the boxplot above, which of the following statements is **TRUE**?\n",
    "\n",
    "    *Berdasarkan boxplot di atas, manakah dari pernyataan berikut yang **BENAR**?*\n",
    "    - [ ] The highest median of total market revenue in January 2011 was around 18,000 USD\n",
    "    - [ ] In 2011, the median of total monthly market revenue in February was higher than May\n",
    "    - [X] The median revenue appeared to be highest in May 2011.\n",
    "    - [ ] In 2011, it is certain that there were more countries that happen to be outliers in April than June\n",
    "    \n",
    "    \n",
    "4. Try to recreate the boxplot above by fill in the blank codes:\n",
    "\n",
    "    *Cobalah untuk membuat ulang boxplot di atas dengan mengisi bagian kode yang hilang di bawah ini:*\n",
    "\n",
    "```\n",
    "invoice_monthly = invoice_int.copy()\n",
    "invoice_monthly['InvoiceMonth'] = invoice_monthly['InvoiceDate'].dt.to_period('M')\n",
    "\n",
    "invoice_monthly_agg = invoice_monthly.\\\n",
    "groupby(_______).\\\n",
    "agg({'TotalPrice': 'sum'}).\\\n",
    "replace(0, np.nan) # mengubah nilai 0 menjadi NaN\n",
    "\n",
    "invoice_monthly_agg.\\\n",
    "boxplot(column = _______, by=_______)\n",
    "```\n",
    "\n",
    "   - [ ] `['Country']`, `'TotalPrice'`, `'Country'`\n",
    "   - [ ] `['InvoiceMonth']`, `'TotalPrice'`, `'InvoiceMonth'`\n",
    "   - [X] `['Country','InvoiceMonth']`, `'TotalPrice'`, `'InvoiceMonth'`\n",
    "   - [ ] `['InvoiceMonth','Country']`, `'InvoiceMonth'`, `'TotalPrice'`"
   ]
  },
  {
   "cell_type": "code",
   "execution_count": 70,
   "metadata": {},
   "outputs": [
    {
     "data": {
      "text/plain": [
       "<AxesSubplot:title={'center':'TotalPrice'}, xlabel='InvoiceMonth'>"
      ]
     },
     "execution_count": 70,
     "metadata": {},
     "output_type": "execute_result"
    },
    {
     "data": {
      "image/png": "[encoded data removed]",
      "text/plain": [
       "<Figure size 432x288 with 1 Axes>"
      ]
     },
     "metadata": {
      "needs_background": "light"
     },
     "output_type": "display_data"
    }
   ],
   "source": [
    "## Your code here\n",
    "invoice_monthly = invoice_int.copy()\n",
    "invoice_monthly['InvoiceMonth'] = invoice_monthly['InvoiceDate'].dt.to_period('M')\n",
    "\n",
    "invoice_monthly_agg = invoice_monthly.\\\n",
    "groupby(['Country','InvoiceMonth']).\\\n",
    "agg({'TotalPrice': 'sum'}).\\\n",
    "replace(0, np.nan) # mengubah nilai 0 menjadi NaN\n",
    "\n",
    "invoice_monthly_agg.\\\n",
    "boxplot(column = 'TotalPrice', by='InvoiceMonth')"
   ]
  },
  {
   "cell_type": "code",
   "execution_count": 74,
   "metadata": {},
   "outputs": [
    {
     "data": {
      "text/html": [
       "<div>\n",
       "<style scoped>\n",
       "    .dataframe tbody tr th:only-of-type {\n",
       "        vertical-align: middle;\n",
       "    }\n",
       "\n",
       "    .dataframe tbody tr th {\n",
       "        vertical-align: top;\n",
       "    }\n",
       "\n",
       "    .dataframe thead th {\n",
       "        text-align: right;\n",
       "    }\n",
       "</style>\n",
       "<table border=\"1\" class=\"dataframe\">\n",
       "  <thead>\n",
       "    <tr style=\"text-align: right;\">\n",
       "      <th></th>\n",
       "      <th></th>\n",
       "      <th>TotalPrice</th>\n",
       "    </tr>\n",
       "    <tr>\n",
       "      <th>Country</th>\n",
       "      <th>InvoiceMonth</th>\n",
       "      <th></th>\n",
       "    </tr>\n",
       "  </thead>\n",
       "  <tbody>\n",
       "    <tr>\n",
       "      <th rowspan=\"5\" valign=\"top\">Australia</th>\n",
       "      <th>2010-12</th>\n",
       "      <td>1032.85</td>\n",
       "    </tr>\n",
       "    <tr>\n",
       "      <th>2011-01</th>\n",
       "      <td>9017.71</td>\n",
       "    </tr>\n",
       "    <tr>\n",
       "      <th>2011-02</th>\n",
       "      <td>14695.42</td>\n",
       "    </tr>\n",
       "    <tr>\n",
       "      <th>2011-03</th>\n",
       "      <td>17223.99</td>\n",
       "    </tr>\n",
       "    <tr>\n",
       "      <th>2011-04</th>\n",
       "      <td>771.60</td>\n",
       "    </tr>\n",
       "    <tr>\n",
       "      <th>...</th>\n",
       "      <th>...</th>\n",
       "      <td>...</td>\n",
       "    </tr>\n",
       "    <tr>\n",
       "      <th>USA</th>\n",
       "      <th>2011-04</th>\n",
       "      <td>383.95</td>\n",
       "    </tr>\n",
       "    <tr>\n",
       "      <th>United Arab Emirates</th>\n",
       "      <th>2011-02</th>\n",
       "      <td>889.24</td>\n",
       "    </tr>\n",
       "    <tr>\n",
       "      <th rowspan=\"3\" valign=\"top\">Unspecified</th>\n",
       "      <th>2011-04</th>\n",
       "      <td>299.10</td>\n",
       "    </tr>\n",
       "    <tr>\n",
       "      <th>2011-05</th>\n",
       "      <td>1055.87</td>\n",
       "    </tr>\n",
       "    <tr>\n",
       "      <th>2011-06</th>\n",
       "      <td>185.78</td>\n",
       "    </tr>\n",
       "  </tbody>\n",
       "</table>\n",
       "<p>157 rows × 1 columns</p>\n",
       "</div>"
      ],
      "text/plain": [
       "                                   TotalPrice\n",
       "Country              InvoiceMonth            \n",
       "Australia            2010-12          1032.85\n",
       "                     2011-01          9017.71\n",
       "                     2011-02         14695.42\n",
       "                     2011-03         17223.99\n",
       "                     2011-04           771.60\n",
       "...                                       ...\n",
       "USA                  2011-04           383.95\n",
       "United Arab Emirates 2011-02           889.24\n",
       "Unspecified          2011-04           299.10\n",
       "                     2011-05          1055.87\n",
       "                     2011-06           185.78\n",
       "\n",
       "[157 rows x 1 columns]"
      ]
     },
     "execution_count": 74,
     "metadata": {},
     "output_type": "execute_result"
    }
   ],
   "source": [
    "invoice_monthly_agg"
   ]
  },
  {
   "cell_type": "code",
   "execution_count": 75,
   "metadata": {},
   "outputs": [
    {
     "data": {
      "text/plain": [
       "TotalPrice    float64\n",
       "dtype: object"
      ]
     },
     "execution_count": 75,
     "metadata": {},
     "output_type": "execute_result"
    }
   ],
   "source": []
  },
  {
   "cell_type": "markdown",
   "metadata": {},
   "source": [
    "## Outlier Analysis\n",
    "\n",
    "Based on the previous boxplot, we found that in June 2011, there were 3 countries with unusually high `TotalPrice`. By fill in the blank codes below, you could identify those outliers by subsetting `invoice_monthly_agg` with the maximum value/upper whisker of the boxplot:\n",
    "\n",
    "```\n",
    "june_invoice = invoice_monthly_agg.xs(key = _______, level= _______)\n",
    "june_outliers = june_invoice[june_invoice['TotalPrice'] > 13000]\n",
    "\n",
    "june_outliers\n",
    "```\n",
    "\n",
    "5. Which country is **NOT** included in `june_outliers` table/data frame?\n",
    "\n",
    "    *Manakah negara yang **TIDAK** termasuk di dalam data frame `june_outliers`?*\n",
    "   - [X] Germany\n",
    "   - [ ] France\n",
    "   - [ ] Australia\n",
    "   - [ ] EIRE"
   ]
  },
  {
   "cell_type": "code",
   "execution_count": 76,
   "metadata": {},
   "outputs": [
    {
     "data": {
      "text/html": [
       "<div>\n",
       "<style scoped>\n",
       "    .dataframe tbody tr th:only-of-type {\n",
       "        vertical-align: middle;\n",
       "    }\n",
       "\n",
       "    .dataframe tbody tr th {\n",
       "        vertical-align: top;\n",
       "    }\n",
       "\n",
       "    .dataframe thead th {\n",
       "        text-align: right;\n",
       "    }\n",
       "</style>\n",
       "<table border=\"1\" class=\"dataframe\">\n",
       "  <thead>\n",
       "    <tr style=\"text-align: right;\">\n",
       "      <th></th>\n",
       "      <th>TotalPrice</th>\n",
       "    </tr>\n",
       "    <tr>\n",
       "      <th>Country</th>\n",
       "      <th></th>\n",
       "    </tr>\n",
       "  </thead>\n",
       "  <tbody>\n",
       "    <tr>\n",
       "      <th>Australia</th>\n",
       "      <td>23426.81</td>\n",
       "    </tr>\n",
       "    <tr>\n",
       "      <th>EIRE</th>\n",
       "      <td>19551.94</td>\n",
       "    </tr>\n",
       "    <tr>\n",
       "      <th>France</th>\n",
       "      <td>16012.89</td>\n",
       "    </tr>\n",
       "  </tbody>\n",
       "</table>\n",
       "</div>"
      ],
      "text/plain": [
       "           TotalPrice\n",
       "Country              \n",
       "Australia    23426.81\n",
       "EIRE         19551.94\n",
       "France       16012.89"
      ]
     },
     "execution_count": 76,
     "metadata": {},
     "output_type": "execute_result"
    }
   ],
   "source": [
    "## Your code here:\n",
    "june_invoice = invoice_monthly_agg.xs(key ='2011-06' , level=1)\n",
    "june_outliers = june_invoice[june_invoice['TotalPrice'] > 13000]\n",
    "\n",
    "june_outliers"
   ]
  },
  {
   "cell_type": "markdown",
   "metadata": {},
   "source": [
    "You are asked to analyze the amount of each country's revenue per quarter contained in the `june_outliers` data. To analyze it, you are asked to create a visualization. Copy the code below to prepare the data to create the visualization:\n",
    "\n",
    "```\n",
    "invoice_q = invoice_int.copy()\n",
    "invoice_q['Quarter'] = invoice_q['InvoiceDate'].dt.to_period('Q')\n",
    "invoice_topq = invoice_q.groupby(['Country','Quarter']).\\\n",
    "                 agg({'TotalPrice' : 'sum'}).\\\n",
    "                 loc[june_outliers.axes[0],]\n",
    "invoice_topq\n",
    "```\n",
    "**Note** : Plot should be read from **left to right** and **top to bottom**\n",
    "\n",
    "6. Which of the following code shows the *most efficient* way to create **grouped bar chart** that compares **quarterly revenue growth** between each country in `invoice_topq` in order from oldest to newest quarter period ?    \n",
    "\n",
    "    *Manakah di antara kode berikut yang menunjukkan cara paling efisien untuk membuat **grouped bar chart** yang membandingkan pertumbuhan pendapatan triwulanan (quarter) dari tiap negara pada data `invoice_topq` secara terurut dari periode triwulan terlama hingga terbaru?*\n",
    "    - [ ] `invoice_topq.plot(kind='bar')`\n",
    "    - [ ] `invoice_topq.unstack().plot(kind = 'bar',stacked=True)`\n",
    "    - [ ] `invoice_topq.unstack(level = 'Country').plot(kind='barh')`\n",
    "    - [X] `invoice_topq.unstack(level = 'Country').plot(kind='bar')`"
   ]
  },
  {
   "cell_type": "code",
   "execution_count": 83,
   "metadata": {},
   "outputs": [
    {
     "data": {
      "text/html": [
       "<div>\n",
       "<style scoped>\n",
       "    .dataframe tbody tr th:only-of-type {\n",
       "        vertical-align: middle;\n",
       "    }\n",
       "\n",
       "    .dataframe tbody tr th {\n",
       "        vertical-align: top;\n",
       "    }\n",
       "\n",
       "    .dataframe thead th {\n",
       "        text-align: right;\n",
       "    }\n",
       "</style>\n",
       "<table border=\"1\" class=\"dataframe\">\n",
       "  <thead>\n",
       "    <tr style=\"text-align: right;\">\n",
       "      <th></th>\n",
       "      <th></th>\n",
       "      <th>TotalPrice</th>\n",
       "    </tr>\n",
       "    <tr>\n",
       "      <th>Country</th>\n",
       "      <th>Quarter</th>\n",
       "      <th></th>\n",
       "    </tr>\n",
       "  </thead>\n",
       "  <tbody>\n",
       "    <tr>\n",
       "      <th rowspan=\"3\" valign=\"top\">Australia</th>\n",
       "      <th>2010Q4</th>\n",
       "      <td>1032.85</td>\n",
       "    </tr>\n",
       "    <tr>\n",
       "      <th>2011Q1</th>\n",
       "      <td>40937.12</td>\n",
       "    </tr>\n",
       "    <tr>\n",
       "      <th>2011Q2</th>\n",
       "      <td>37836.82</td>\n",
       "    </tr>\n",
       "    <tr>\n",
       "      <th rowspan=\"3\" valign=\"top\">EIRE</th>\n",
       "      <th>2010Q4</th>\n",
       "      <td>10033.26</td>\n",
       "    </tr>\n",
       "    <tr>\n",
       "      <th>2011Q1</th>\n",
       "      <td>56350.44</td>\n",
       "    </tr>\n",
       "    <tr>\n",
       "      <th>2011Q2</th>\n",
       "      <td>45131.20</td>\n",
       "    </tr>\n",
       "    <tr>\n",
       "      <th rowspan=\"3\" valign=\"top\">France</th>\n",
       "      <th>2010Q4</th>\n",
       "      <td>9616.31</td>\n",
       "    </tr>\n",
       "    <tr>\n",
       "      <th>2011Q1</th>\n",
       "      <td>40845.63</td>\n",
       "    </tr>\n",
       "    <tr>\n",
       "      <th>2011Q2</th>\n",
       "      <td>39157.38</td>\n",
       "    </tr>\n",
       "  </tbody>\n",
       "</table>\n",
       "</div>"
      ],
      "text/plain": [
       "                   TotalPrice\n",
       "Country   Quarter            \n",
       "Australia 2010Q4      1032.85\n",
       "          2011Q1     40937.12\n",
       "          2011Q2     37836.82\n",
       "EIRE      2010Q4     10033.26\n",
       "          2011Q1     56350.44\n",
       "          2011Q2     45131.20\n",
       "France    2010Q4      9616.31\n",
       "          2011Q1     40845.63\n",
       "          2011Q2     39157.38"
      ]
     },
     "execution_count": 83,
     "metadata": {},
     "output_type": "execute_result"
    }
   ],
   "source": [
    "## Your code here:\n",
    "invoice_q = invoice_int.copy()\n",
    "invoice_q['Quarter'] = invoice_q['InvoiceDate'].dt.to_period('Q')\n",
    "invoice_topq = invoice_q.groupby(['Country','Quarter']).\\\n",
    "                 agg({'TotalPrice' : 'sum'}).\\\n",
    "                 loc[june_outliers.axes[0],]\n",
    "invoice_topq"
   ]
  },
  {
   "cell_type": "code",
   "execution_count": 84,
   "metadata": {},
   "outputs": [
    {
     "data": {
      "text/html": [
       "<div>\n",
       "<style scoped>\n",
       "    .dataframe tbody tr th:only-of-type {\n",
       "        vertical-align: middle;\n",
       "    }\n",
       "\n",
       "    .dataframe tbody tr th {\n",
       "        vertical-align: top;\n",
       "    }\n",
       "\n",
       "    .dataframe thead tr th {\n",
       "        text-align: left;\n",
       "    }\n",
       "\n",
       "    .dataframe thead tr:last-of-type th {\n",
       "        text-align: right;\n",
       "    }\n",
       "</style>\n",
       "<table border=\"1\" class=\"dataframe\">\n",
       "  <thead>\n",
       "    <tr>\n",
       "      <th></th>\n",
       "      <th colspan=\"3\" halign=\"left\">TotalPrice</th>\n",
       "    </tr>\n",
       "    <tr>\n",
       "      <th>Country</th>\n",
       "      <th>Australia</th>\n",
       "      <th>EIRE</th>\n",
       "      <th>France</th>\n",
       "    </tr>\n",
       "    <tr>\n",
       "      <th>Quarter</th>\n",
       "      <th></th>\n",
       "      <th></th>\n",
       "      <th></th>\n",
       "    </tr>\n",
       "  </thead>\n",
       "  <tbody>\n",
       "    <tr>\n",
       "      <th>2010Q4</th>\n",
       "      <td>1032.85</td>\n",
       "      <td>10033.26</td>\n",
       "      <td>9616.31</td>\n",
       "    </tr>\n",
       "    <tr>\n",
       "      <th>2011Q1</th>\n",
       "      <td>40937.12</td>\n",
       "      <td>56350.44</td>\n",
       "      <td>40845.63</td>\n",
       "    </tr>\n",
       "    <tr>\n",
       "      <th>2011Q2</th>\n",
       "      <td>37836.82</td>\n",
       "      <td>45131.20</td>\n",
       "      <td>39157.38</td>\n",
       "    </tr>\n",
       "  </tbody>\n",
       "</table>\n",
       "</div>"
      ],
      "text/plain": [
       "        TotalPrice                    \n",
       "Country  Australia      EIRE    France\n",
       "Quarter                               \n",
       "2010Q4     1032.85  10033.26   9616.31\n",
       "2011Q1    40937.12  56350.44  40845.63\n",
       "2011Q2    37836.82  45131.20  39157.38"
      ]
     },
     "execution_count": 84,
     "metadata": {},
     "output_type": "execute_result"
    }
   ],
   "source": [
    "invoice_topq.unstack(level = 'Country')"
   ]
  },
  {
   "cell_type": "code",
   "execution_count": 82,
   "metadata": {},
   "outputs": [
    {
     "data": {
      "text/plain": [
       "<AxesSubplot:xlabel='Quarter'>"
      ]
     },
     "execution_count": 82,
     "metadata": {},
     "output_type": "execute_result"
    },
    {
     "data": {
      "image/png": "[encoded data removed]",
      "text/plain": [
       "<Figure size 432x288 with 1 Axes>"
      ]
     },
     "metadata": {
      "needs_background": "light"
     },
     "output_type": "display_data"
    }
   ],
   "source": [
    "invoice_topq.unstack(level = 'Country').plot(kind='bar')"
   ]
  },
  {
   "cell_type": "code",
   "execution_count": null,
   "metadata": {},
   "outputs": [],
   "source": []
  }
 ],
 "metadata": {
  "kernelspec": {
   "display_name": "theia_da",
   "language": "python",
   "name": "theia_da"
  },
  "language_info": {
   "codemirror_mode": {
    "name": "ipython",
    "version": 3
   },
   "file_extension": ".py",
   "mimetype": "text/x-python",
   "name": "python",
   "nbconvert_exporter": "python",
   "pygments_lexer": "ipython3",
   "version": "3.9.13"
  },
  "latex_envs": {
   "LaTeX_envs_menu_present": true,
   "autoclose": false,
   "autocomplete": true,
   "bibliofile": "biblio.bib",
   "cite_by": "apalike",
   "current_citInitial": 1,
   "eqLabelWithNumbers": true,
   "eqNumInitial": 1,
   "hotkeys": {
    "equation": "Ctrl-E",
    "itemize": "Ctrl-I"
   },
   "labels_anchors": false,
   "latex_user_defs": false,
   "report_style_numbering": false,
   "user_envs_cfg": false
  },
  "toc": {
   "base_numbering": 1,
   "nav_menu": {},
   "number_sections": true,
   "sideBar": true,
   "skip_h1_title": false,
   "title_cell": "Table of Contents",
   "title_sidebar": "Contents",
   "toc_cell": false,
   "toc_position": {},
   "toc_section_display": true,
   "toc_window_display": false
  }
 },
 "nbformat": 4,
 "nbformat_minor": 4
}
