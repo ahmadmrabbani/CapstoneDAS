{
 "cells": [
  {
   "cell_type": "markdown",
   "metadata": {},
   "source": [
    "# Quiz: SQL Query\n",
    "\n",
    "Congratulations on completing the SQL Query course! We will conduct an assessment quiz to test your competensces about the material that you have learned in the course. The quiz is expected to be taken in the classroom, please contact our teaching team if you missed the chance to take it in class."
   ]
  },
  {
   "cell_type": "markdown",
   "metadata": {},
   "source": [
    "## Database Schema\n",
    "\n",
    "In this quiz, the database used is `chinook.db` which is in the `data_input` folder.\n",
    "\n",
    "The `chinook.db` database consists of 11 tables containing sample data from digital media stores:\n",
    "\n",
    "- Media related data such as `tracks`, `albums`, `artists`, `genres`, `media_types`, `playlists`, `playlist_track` tables are original data from the *Apple iTunes library*.\n",
    "- Information about `customers` and `employees` is generated using fictitious names and addresses found on *Google Maps*, and other well-formatted data (phone, fax, email, etc.).\n",
    "- Sales information `invoices` and `invoice_items` are generated automatically using random data for the period 2009-2013. "
   ]
  },
  {
   "cell_type": "code",
   "execution_count": 1,
   "metadata": {},
   "outputs": [],
   "source": [
    "import sqlite3\n",
    "import pandas as pd\n",
    "\n",
    "conn = sqlite3.connect(\"data_input/chinook.db\")"
   ]
  },
  {
   "cell_type": "markdown",
   "metadata": {},
   "source": [
    "![](assets/chinookschema2.png)"
   ]
  },
  {
   "cell_type": "markdown",
   "metadata": {},
   "source": [
    "## Customer Invoice Data\n",
    "\n",
    "In this case, we want to develop a simple sales visualization report of our top 5 key markets (`Country` column in `customers`) ranked by Sales (`Total` column in `invoices`). \n",
    "\n",
    "We also want to identify our top 5 customers by name (`FirstName`, `LastName`) in the report.\n",
    "\n",
    "Last but not least, we want the report to include a day-of-week analysis on sales performance, and for that we will need the `InvoiceDate` column. \n",
    "\n"
   ]
  },
  {
   "cell_type": "markdown",
   "metadata": {},
   "source": [
    "### SQL Query"
   ]
  },
  {
   "cell_type": "markdown",
   "metadata": {},
   "source": [
    "Let's try by first constructing a DataFrame using the `read_sql_query()` method that we've grown familiar to, you want to know the respective total made by each customers. To find out the customers name, you need to combine the customer's first name (`FirstName`) and last name (`LastName`) and save them into a new column with the name `CustomerName`. Create an aggregation table that shows **sum** of total sales (`Total`) for each customer and sort them to get the largest to smallest respective total information. \n",
    "\n",
    "```\n",
    "customer_total = pd.read_sql_query(\n",
    "    '''\n",
    "    SELECT SUM(___.____) as Total, \n",
    "    customers.___ || ' ' || customers.___ AS CustomerName  \n",
    "    FROM customers\n",
    "    LEFT JOIN ___\n",
    "    ON customers.___ = ___.___\n",
    "    GROUP BY ____\n",
    "    ORDER BY ___ DESC\n",
    "    LIMIT ___ \n",
    "    ''' ,conn)\n",
    "```\n",
    "\n",
    "\n",
    "1. Which of the following customers are among the top 5 customers ranked by their respective total (`Total`)?\n",
    "\n",
    "    *Manakah di antara pelanggan berikut yang termasuk dalam 5 besar pelanggan yang diurutkan berdasarkan total pembeliannya (`Total`)?*\n",
    "    - [ ] Victor Stevens\n",
    "    - [X] Hugh O'Reilly\n",
    "    - [ ] Puja Srivastava\n",
    "    - [ ] Astrid Gruber\t"
   ]
  },
  {
   "cell_type": "code",
   "execution_count": 5,
   "metadata": {},
   "outputs": [],
   "source": [
    "## Your code here\n",
    "customer_total = pd.read_sql_query(\n",
    "    '''\n",
    "    SELECT SUM(invoices.Total) as Total, \n",
    "    customers.FirstName || ' ' || customers.LastName AS CustomerName  \n",
    "    FROM customers\n",
    "    LEFT JOIN invoices\n",
    "    ON customers.CustomerId = invoices.CustomerId\n",
    "    GROUP BY CustomerName\n",
    "    ORDER BY Total DESC \n",
    "    ''' ,conn)"
   ]
  },
  {
   "cell_type": "code",
   "execution_count": 7,
   "metadata": {},
   "outputs": [
    {
     "data": {
      "text/html": [
       "<div>\n",
       "<style scoped>\n",
       "    .dataframe tbody tr th:only-of-type {\n",
       "        vertical-align: middle;\n",
       "    }\n",
       "\n",
       "    .dataframe tbody tr th {\n",
       "        vertical-align: top;\n",
       "    }\n",
       "\n",
       "    .dataframe thead th {\n",
       "        text-align: right;\n",
       "    }\n",
       "</style>\n",
       "<table border=\"1\" class=\"dataframe\">\n",
       "  <thead>\n",
       "    <tr style=\"text-align: right;\">\n",
       "      <th></th>\n",
       "      <th>Total</th>\n",
       "      <th>CustomerName</th>\n",
       "    </tr>\n",
       "  </thead>\n",
       "  <tbody>\n",
       "    <tr>\n",
       "      <th>0</th>\n",
       "      <td>49.62</td>\n",
       "      <td>Helena Holý</td>\n",
       "    </tr>\n",
       "    <tr>\n",
       "      <th>1</th>\n",
       "      <td>47.62</td>\n",
       "      <td>Richard Cunningham</td>\n",
       "    </tr>\n",
       "    <tr>\n",
       "      <th>2</th>\n",
       "      <td>46.62</td>\n",
       "      <td>Luis Rojas</td>\n",
       "    </tr>\n",
       "    <tr>\n",
       "      <th>3</th>\n",
       "      <td>45.62</td>\n",
       "      <td>Ladislav Kovács</td>\n",
       "    </tr>\n",
       "    <tr>\n",
       "      <th>4</th>\n",
       "      <td>45.62</td>\n",
       "      <td>Hugh O'Reilly</td>\n",
       "    </tr>\n",
       "  </tbody>\n",
       "</table>\n",
       "</div>"
      ],
      "text/plain": [
       "   Total        CustomerName\n",
       "0  49.62         Helena Holý\n",
       "1  47.62  Richard Cunningham\n",
       "2  46.62          Luis Rojas\n",
       "3  45.62     Ladislav Kovács\n",
       "4  45.62       Hugh O'Reilly"
      ]
     },
     "execution_count": 7,
     "metadata": {},
     "output_type": "execute_result"
    }
   ],
   "source": [
    "customer_total.head(5)"
   ]
  },
  {
   "cell_type": "markdown",
   "metadata": {},
   "source": [
    "You want to find out the gross income earned by each country. Fetch the data to get **sum** of the gross income (`Total`) earned by each country and sort them to get information on the country with the highest to the lowest income. \n",
    "\n",
    "```\n",
    "country_total = pd.read_sql_query(\n",
    "    '''\n",
    "    SELECT SUM(____.____) as Total, customers._____  \n",
    "    FROM customers\n",
    "    LEFT JOIN _____\n",
    "    ON customers.____ = ____.____\n",
    "    GROUP BY ____\n",
    "    ORDER BY ____ DESC\n",
    "    ''' ,conn)\n",
    "```\n",
    "\n",
    "2. Which of the following countries are among the top 5 grossing ranked by their respective total (`Total`)?\n",
    "\n",
    "    *Manakah di antara negara berikut yang termasuk dalam 5 negara dengan pendapatan bruto paling besar yang diurutkan berdasarkan kolom `Total`?*\n",
    "    - [ ] United Kingdom\n",
    "    - [X] Germany\n",
    "    - [ ] Portugal\n",
    "    - [ ] India"
   ]
  },
  {
   "cell_type": "code",
   "execution_count": 9,
   "metadata": {
    "scrolled": true
   },
   "outputs": [],
   "source": [
    "## Your code here\n",
    "\n",
    "country_total = pd.read_sql_query(\n",
    "    '''\n",
    "    SELECT SUM(invoices.Total) as Total, customers.Country  \n",
    "    FROM customers\n",
    "    LEFT JOIN invoices\n",
    "    ON customers.CustomerId = invoices.CustomerId\n",
    "    GROUP BY Country\n",
    "    ORDER BY Total DESC\n",
    "    ''' ,conn)"
   ]
  },
  {
   "cell_type": "code",
   "execution_count": 11,
   "metadata": {},
   "outputs": [
    {
     "data": {
      "text/html": [
       "<div>\n",
       "<style scoped>\n",
       "    .dataframe tbody tr th:only-of-type {\n",
       "        vertical-align: middle;\n",
       "    }\n",
       "\n",
       "    .dataframe tbody tr th {\n",
       "        vertical-align: top;\n",
       "    }\n",
       "\n",
       "    .dataframe thead th {\n",
       "        text-align: right;\n",
       "    }\n",
       "</style>\n",
       "<table border=\"1\" class=\"dataframe\">\n",
       "  <thead>\n",
       "    <tr style=\"text-align: right;\">\n",
       "      <th></th>\n",
       "      <th>Total</th>\n",
       "      <th>Country</th>\n",
       "    </tr>\n",
       "  </thead>\n",
       "  <tbody>\n",
       "    <tr>\n",
       "      <th>0</th>\n",
       "      <td>523.06</td>\n",
       "      <td>USA</td>\n",
       "    </tr>\n",
       "    <tr>\n",
       "      <th>1</th>\n",
       "      <td>303.96</td>\n",
       "      <td>Canada</td>\n",
       "    </tr>\n",
       "    <tr>\n",
       "      <th>2</th>\n",
       "      <td>195.10</td>\n",
       "      <td>France</td>\n",
       "    </tr>\n",
       "    <tr>\n",
       "      <th>3</th>\n",
       "      <td>190.10</td>\n",
       "      <td>Brazil</td>\n",
       "    </tr>\n",
       "    <tr>\n",
       "      <th>4</th>\n",
       "      <td>156.48</td>\n",
       "      <td>Germany</td>\n",
       "    </tr>\n",
       "  </tbody>\n",
       "</table>\n",
       "</div>"
      ],
      "text/plain": [
       "    Total  Country\n",
       "0  523.06      USA\n",
       "1  303.96   Canada\n",
       "2  195.10   France\n",
       "3  190.10   Brazil\n",
       "4  156.48  Germany"
      ]
     },
     "execution_count": 11,
     "metadata": {},
     "output_type": "execute_result"
    }
   ],
   "source": [
    "country_total.head()"
   ]
  },
  {
   "cell_type": "markdown",
   "metadata": {},
   "source": [
    "## Top 5 Country\n",
    "\n",
    "Based on the information you have obtained about the 5 countries with the highest respective total, you want to do further analysis of some other information that can be used as *insight*. Use the code block below as a reference to create a DataFrame containing records where the customers are from one of the top 5 countries. \n",
    "\n",
    "```\n",
    "top5data = pd.read_sql_query(\n",
    "    '''\n",
    "    SELECT ___.Total, ___.InvoiceDate, customers.country, \n",
    "    customers.____ || ' ' || customers.____ as CustomerName\n",
    "    FROM customers\n",
    "    LEFT JOIN ____\n",
    "    ON customers.____ = ____.____\n",
    "    WHERE ____.____ IN ('___' , '___', '___', '___','___')\n",
    "    ''' ,conn,parse_dates='InvoiceDate')\n",
    "```\n",
    "\n",
    ">  **Hint**: In `read_sql_query()`, you can use the `parse_dates='InvoiceDate'` argument to have the specified column parsed as date, saving you from a `to_datetime()` conversion"
   ]
  },
  {
   "cell_type": "code",
   "execution_count": 13,
   "metadata": {
    "run_control": {
     "marked": false
    },
    "scrolled": true
   },
   "outputs": [],
   "source": [
    "## Your code here\n",
    "top5data = pd.read_sql_query(\n",
    "    '''\n",
    "    SELECT invoices.Total, invoices.InvoiceDate, customers.Country, \n",
    "    customers.FirstName || ' ' || customers.LastName as CustomerName\n",
    "    FROM customers\n",
    "    LEFT JOIN invoices\n",
    "    ON customers.CustomerId = invoices.CustomerId\n",
    "    WHERE customers.Country IN ('USA' , 'Canada', 'France', 'Brazil','Germany')\n",
    "    ''' ,conn,parse_dates='InvoiceDate')"
   ]
  },
  {
   "cell_type": "code",
   "execution_count": 22,
   "metadata": {},
   "outputs": [
    {
     "data": {
      "text/html": [
       "<div>\n",
       "<style scoped>\n",
       "    .dataframe tbody tr th:only-of-type {\n",
       "        vertical-align: middle;\n",
       "    }\n",
       "\n",
       "    .dataframe tbody tr th {\n",
       "        vertical-align: top;\n",
       "    }\n",
       "\n",
       "    .dataframe thead th {\n",
       "        text-align: right;\n",
       "    }\n",
       "</style>\n",
       "<table border=\"1\" class=\"dataframe\">\n",
       "  <thead>\n",
       "    <tr style=\"text-align: right;\">\n",
       "      <th></th>\n",
       "      <th>Total</th>\n",
       "      <th>InvoiceDate</th>\n",
       "      <th>Country</th>\n",
       "      <th>CustomerName</th>\n",
       "    </tr>\n",
       "  </thead>\n",
       "  <tbody>\n",
       "    <tr>\n",
       "      <th>0</th>\n",
       "      <td>3.98</td>\n",
       "      <td>2010-03-11</td>\n",
       "      <td>Brazil</td>\n",
       "      <td>Luís Gonçalves</td>\n",
       "    </tr>\n",
       "    <tr>\n",
       "      <th>1</th>\n",
       "      <td>3.96</td>\n",
       "      <td>2010-06-13</td>\n",
       "      <td>Brazil</td>\n",
       "      <td>Luís Gonçalves</td>\n",
       "    </tr>\n",
       "    <tr>\n",
       "      <th>2</th>\n",
       "      <td>5.94</td>\n",
       "      <td>2010-09-15</td>\n",
       "      <td>Brazil</td>\n",
       "      <td>Luís Gonçalves</td>\n",
       "    </tr>\n",
       "    <tr>\n",
       "      <th>3</th>\n",
       "      <td>0.99</td>\n",
       "      <td>2011-05-06</td>\n",
       "      <td>Brazil</td>\n",
       "      <td>Luís Gonçalves</td>\n",
       "    </tr>\n",
       "    <tr>\n",
       "      <th>4</th>\n",
       "      <td>1.98</td>\n",
       "      <td>2012-10-27</td>\n",
       "      <td>Brazil</td>\n",
       "      <td>Luís Gonçalves</td>\n",
       "    </tr>\n",
       "    <tr>\n",
       "      <th>...</th>\n",
       "      <td>...</td>\n",
       "      <td>...</td>\n",
       "      <td>...</td>\n",
       "      <td>...</td>\n",
       "    </tr>\n",
       "    <tr>\n",
       "      <th>240</th>\n",
       "      <td>5.94</td>\n",
       "      <td>2010-07-15</td>\n",
       "      <td>France</td>\n",
       "      <td>Isabelle Mercier</td>\n",
       "    </tr>\n",
       "    <tr>\n",
       "      <th>241</th>\n",
       "      <td>0.99</td>\n",
       "      <td>2011-03-05</td>\n",
       "      <td>France</td>\n",
       "      <td>Isabelle Mercier</td>\n",
       "    </tr>\n",
       "    <tr>\n",
       "      <th>242</th>\n",
       "      <td>1.98</td>\n",
       "      <td>2012-08-26</td>\n",
       "      <td>France</td>\n",
       "      <td>Isabelle Mercier</td>\n",
       "    </tr>\n",
       "    <tr>\n",
       "      <th>243</th>\n",
       "      <td>16.86</td>\n",
       "      <td>2012-10-06</td>\n",
       "      <td>France</td>\n",
       "      <td>Isabelle Mercier</td>\n",
       "    </tr>\n",
       "    <tr>\n",
       "      <th>244</th>\n",
       "      <td>8.91</td>\n",
       "      <td>2013-06-06</td>\n",
       "      <td>France</td>\n",
       "      <td>Isabelle Mercier</td>\n",
       "    </tr>\n",
       "  </tbody>\n",
       "</table>\n",
       "<p>245 rows × 4 columns</p>\n",
       "</div>"
      ],
      "text/plain": [
       "     Total InvoiceDate Country      CustomerName\n",
       "0     3.98  2010-03-11  Brazil    Luís Gonçalves\n",
       "1     3.96  2010-06-13  Brazil    Luís Gonçalves\n",
       "2     5.94  2010-09-15  Brazil    Luís Gonçalves\n",
       "3     0.99  2011-05-06  Brazil    Luís Gonçalves\n",
       "4     1.98  2012-10-27  Brazil    Luís Gonçalves\n",
       "..     ...         ...     ...               ...\n",
       "240   5.94  2010-07-15  France  Isabelle Mercier\n",
       "241   0.99  2011-03-05  France  Isabelle Mercier\n",
       "242   1.98  2012-08-26  France  Isabelle Mercier\n",
       "243  16.86  2012-10-06  France  Isabelle Mercier\n",
       "244   8.91  2013-06-06  France  Isabelle Mercier\n",
       "\n",
       "[245 rows x 4 columns]"
      ]
     },
     "execution_count": 22,
     "metadata": {},
     "output_type": "execute_result"
    }
   ],
   "source": [
    "top5data"
   ]
  },
  {
   "cell_type": "markdown",
   "metadata": {},
   "source": [
    "Using the `top5data` data frame above, perform a descriptive analysis to answer the questions below. \n",
    "\n",
    "3. How many sales transactions (or records, or rows) were from the top 5 countries?\n",
    "\n",
    "    *Berapa banyak transaksi penjualan (baris) yang berasal dari 5 negara teratas?*\n",
    "    - [ ] 7\n",
    "    - [X] 245\n",
    "    - [ ] 412\n",
    "    - [ ] 1715"
   ]
  },
  {
   "cell_type": "code",
   "execution_count": null,
   "metadata": {},
   "outputs": [],
   "source": [
    "## Your code here\n"
   ]
  },
  {
   "cell_type": "markdown",
   "metadata": {},
   "source": [
    "### Combining SQL Query and Pandas Data Manipulation\n",
    "\n",
    "With pandas, we can use pandas data manipulation technique such as datetime data extraction with dataframe fetched from database. For example, you are interested to know more about the sales made in the top 5 countries, especially **France**. France makes sales every day, do data aggregation to get **sum** of daily income. \n",
    "\n",
    "We can use `InvoiceDate` column from the `top5data` to create new column named `InvoiceDOW` to show the day name of the transaction.\n",
    "\n",
    "> **Hint** : `pandas` has a built in method to extract day name of the week. We already learned the function in previous materials (**Working with Datetime**). Here is the example:\n",
    ">\n",
    "> `data['InvoiceDOW'] = data['InvoiceDate'].dt.day_name()`"
   ]
  },
  {
   "cell_type": "code",
   "execution_count": 24,
   "metadata": {},
   "outputs": [],
   "source": [
    "## Your code here\n",
    "top5data['InvoiceDOW'] = top5data['InvoiceDate'].dt.day_name()"
   ]
  },
  {
   "cell_type": "code",
   "execution_count": 29,
   "metadata": {},
   "outputs": [
    {
     "data": {
      "text/html": [
       "<div>\n",
       "<style scoped>\n",
       "    .dataframe tbody tr th:only-of-type {\n",
       "        vertical-align: middle;\n",
       "    }\n",
       "\n",
       "    .dataframe tbody tr th {\n",
       "        vertical-align: top;\n",
       "    }\n",
       "\n",
       "    .dataframe thead th {\n",
       "        text-align: right;\n",
       "    }\n",
       "</style>\n",
       "<table border=\"1\" class=\"dataframe\">\n",
       "  <thead>\n",
       "    <tr style=\"text-align: right;\">\n",
       "      <th></th>\n",
       "      <th>Total</th>\n",
       "      <th>InvoiceDate</th>\n",
       "      <th>Country</th>\n",
       "      <th>CustomerName</th>\n",
       "      <th>InvoiceDOW</th>\n",
       "    </tr>\n",
       "  </thead>\n",
       "  <tbody>\n",
       "    <tr>\n",
       "      <th>0</th>\n",
       "      <td>3.98</td>\n",
       "      <td>2010-03-11</td>\n",
       "      <td>Brazil</td>\n",
       "      <td>Luís Gonçalves</td>\n",
       "      <td>Thursday</td>\n",
       "    </tr>\n",
       "    <tr>\n",
       "      <th>1</th>\n",
       "      <td>3.96</td>\n",
       "      <td>2010-06-13</td>\n",
       "      <td>Brazil</td>\n",
       "      <td>Luís Gonçalves</td>\n",
       "      <td>Sunday</td>\n",
       "    </tr>\n",
       "    <tr>\n",
       "      <th>2</th>\n",
       "      <td>5.94</td>\n",
       "      <td>2010-09-15</td>\n",
       "      <td>Brazil</td>\n",
       "      <td>Luís Gonçalves</td>\n",
       "      <td>Wednesday</td>\n",
       "    </tr>\n",
       "    <tr>\n",
       "      <th>3</th>\n",
       "      <td>0.99</td>\n",
       "      <td>2011-05-06</td>\n",
       "      <td>Brazil</td>\n",
       "      <td>Luís Gonçalves</td>\n",
       "      <td>Friday</td>\n",
       "    </tr>\n",
       "    <tr>\n",
       "      <th>4</th>\n",
       "      <td>1.98</td>\n",
       "      <td>2012-10-27</td>\n",
       "      <td>Brazil</td>\n",
       "      <td>Luís Gonçalves</td>\n",
       "      <td>Saturday</td>\n",
       "    </tr>\n",
       "    <tr>\n",
       "      <th>...</th>\n",
       "      <td>...</td>\n",
       "      <td>...</td>\n",
       "      <td>...</td>\n",
       "      <td>...</td>\n",
       "      <td>...</td>\n",
       "    </tr>\n",
       "    <tr>\n",
       "      <th>240</th>\n",
       "      <td>5.94</td>\n",
       "      <td>2010-07-15</td>\n",
       "      <td>France</td>\n",
       "      <td>Isabelle Mercier</td>\n",
       "      <td>Thursday</td>\n",
       "    </tr>\n",
       "    <tr>\n",
       "      <th>241</th>\n",
       "      <td>0.99</td>\n",
       "      <td>2011-03-05</td>\n",
       "      <td>France</td>\n",
       "      <td>Isabelle Mercier</td>\n",
       "      <td>Saturday</td>\n",
       "    </tr>\n",
       "    <tr>\n",
       "      <th>242</th>\n",
       "      <td>1.98</td>\n",
       "      <td>2012-08-26</td>\n",
       "      <td>France</td>\n",
       "      <td>Isabelle Mercier</td>\n",
       "      <td>Sunday</td>\n",
       "    </tr>\n",
       "    <tr>\n",
       "      <th>243</th>\n",
       "      <td>16.86</td>\n",
       "      <td>2012-10-06</td>\n",
       "      <td>France</td>\n",
       "      <td>Isabelle Mercier</td>\n",
       "      <td>Saturday</td>\n",
       "    </tr>\n",
       "    <tr>\n",
       "      <th>244</th>\n",
       "      <td>8.91</td>\n",
       "      <td>2013-06-06</td>\n",
       "      <td>France</td>\n",
       "      <td>Isabelle Mercier</td>\n",
       "      <td>Thursday</td>\n",
       "    </tr>\n",
       "  </tbody>\n",
       "</table>\n",
       "<p>245 rows × 5 columns</p>\n",
       "</div>"
      ],
      "text/plain": [
       "     Total InvoiceDate Country      CustomerName InvoiceDOW\n",
       "0     3.98  2010-03-11  Brazil    Luís Gonçalves   Thursday\n",
       "1     3.96  2010-06-13  Brazil    Luís Gonçalves     Sunday\n",
       "2     5.94  2010-09-15  Brazil    Luís Gonçalves  Wednesday\n",
       "3     0.99  2011-05-06  Brazil    Luís Gonçalves     Friday\n",
       "4     1.98  2012-10-27  Brazil    Luís Gonçalves   Saturday\n",
       "..     ...         ...     ...               ...        ...\n",
       "240   5.94  2010-07-15  France  Isabelle Mercier   Thursday\n",
       "241   0.99  2011-03-05  France  Isabelle Mercier   Saturday\n",
       "242   1.98  2012-08-26  France  Isabelle Mercier     Sunday\n",
       "243  16.86  2012-10-06  France  Isabelle Mercier   Saturday\n",
       "244   8.91  2013-06-06  France  Isabelle Mercier   Thursday\n",
       "\n",
       "[245 rows x 5 columns]"
      ]
     },
     "execution_count": 29,
     "metadata": {},
     "output_type": "execute_result"
    }
   ],
   "source": [
    "top5data"
   ]
  },
  {
   "cell_type": "markdown",
   "metadata": {},
   "source": [
    "Besides France, you are also interested in analyzing the daily income obtained over the top 5 countries with the highest income. Using the `top5data` data frame, perform the aggregation to find out the **sum** of each day's sales (`Total`) for the entire country. \n",
    "\n",
    "4. Based on the data aggregation you have made before, answer the next two questions: How much sales (`Total`) did we make in total (`sum`) from the France market on a Tuesday? How much sales did we make in total from all the top 5 markets combined on a Friday?\n",
    "\n",
    "    *Berdasarkan agregasi data yang Anda lakukan diatas, jawablah 2 pertanyaan berikut: Berapa jumlah penjualan (`Total`) yang kita hasilkan dari total(`sum`) pasar Perancis pada hari Selasa? Berapa total penjualan yang kita hasilkan dari semua gabungan 5 pasar teratas pada hari Jumat?*\n",
    "    - [ ] 160.41 / 173.31  \n",
    "    - [ ] 160.41 / 326.77\n",
    "    - [X] 1.98 / 173.31\n",
    "    - [ ] 1.98 / 326.77"
   ]
  },
  {
   "cell_type": "code",
   "execution_count": 33,
   "metadata": {
    "scrolled": true
   },
   "outputs": [
    {
     "data": {
      "text/plain": [
       "Total    1.98\n",
       "Name: Tuesday, dtype: float64"
      ]
     },
     "execution_count": 33,
     "metadata": {},
     "output_type": "execute_result"
    }
   ],
   "source": [
    "## Your code here\n",
    "top5data[top5data['Country']=='France'].pivot_table(\n",
    "    index='InvoiceDOW',\n",
    "    values='Total',\n",
    "    aggfunc='sum'\n",
    ").loc['Tuesday']"
   ]
  },
  {
   "cell_type": "code",
   "execution_count": 34,
   "metadata": {},
   "outputs": [
    {
     "data": {
      "text/plain": [
       "Total    173.31\n",
       "Name: Friday, dtype: float64"
      ]
     },
     "execution_count": 34,
     "metadata": {},
     "output_type": "execute_result"
    }
   ],
   "source": [
    "top5data.pivot_table(\n",
    "    index='InvoiceDOW',\n",
    "    values='Total',\n",
    "    aggfunc='sum'\n",
    ").loc['Friday']"
   ]
  },
  {
   "cell_type": "markdown",
   "metadata": {},
   "source": [
    "The analysis results of the daily respective total sales of each country above will be made a visualization as material for your reporting. Save the data aggregation into a variable. Remove the margins if you were included in the earlier step to make visualization easier. Create a visualization by chaining the `.plot()` method by setting the `kind` parameter to create one of the following plot types:` line`, `bar`,` scatter` & `box`. \n",
    "\n",
    "\n",
    "5. Based on the analysis above, which one is the **LEAST** appropriate plot type(s)?\n",
    "\n",
    "    *Berdasarkan analisa diatas, manakah jenis plot yang **PALING TIDAK SESUAI** digunakan?*\n",
    "    - [ ] `line`\n",
    "    - [ ] `bar`\n",
    "    - [X] `scatter`\n",
    "    - [ ] `box`"
   ]
  },
  {
   "cell_type": "code",
   "execution_count": 54,
   "metadata": {
    "scrolled": true
   },
   "outputs": [
    {
     "data": {
      "text/plain": [
       "<AxesSubplot:xlabel='Country'>"
      ]
     },
     "execution_count": 54,
     "metadata": {},
     "output_type": "execute_result"
    },
    {
     "data": {
      "image/png": "[encoded data removed]",
      "text/plain": [
       "<Figure size 432x288 with 1 Axes>"
      ]
     },
     "metadata": {
      "needs_background": "light"
     },
     "output_type": "display_data"
    }
   ],
   "source": [
    "## Your code here\n",
    "top5data.pivot_table(\n",
    "    index='Country',\n",
    "    columns='InvoiceDOW',\n",
    "    values='Total',\n",
    "    aggfunc='sum'\n",
    ").plot(kind='line')"
   ]
  },
  {
   "cell_type": "code",
   "execution_count": 62,
   "metadata": {},
   "outputs": [
    {
     "data": {
      "text/html": [
       "<div>\n",
       "<style scoped>\n",
       "    .dataframe tbody tr th:only-of-type {\n",
       "        vertical-align: middle;\n",
       "    }\n",
       "\n",
       "    .dataframe tbody tr th {\n",
       "        vertical-align: top;\n",
       "    }\n",
       "\n",
       "    .dataframe thead th {\n",
       "        text-align: right;\n",
       "    }\n",
       "</style>\n",
       "<table border=\"1\" class=\"dataframe\">\n",
       "  <thead>\n",
       "    <tr style=\"text-align: right;\">\n",
       "      <th>InvoiceDOW</th>\n",
       "      <th>Friday</th>\n",
       "      <th>Monday</th>\n",
       "      <th>Saturday</th>\n",
       "      <th>Sunday</th>\n",
       "      <th>Thursday</th>\n",
       "      <th>Tuesday</th>\n",
       "      <th>Wednesday</th>\n",
       "    </tr>\n",
       "    <tr>\n",
       "      <th>Country</th>\n",
       "      <th></th>\n",
       "      <th></th>\n",
       "      <th></th>\n",
       "      <th></th>\n",
       "      <th></th>\n",
       "      <th></th>\n",
       "      <th></th>\n",
       "    </tr>\n",
       "  </thead>\n",
       "  <tbody>\n",
       "    <tr>\n",
       "      <th>Brazil</th>\n",
       "      <td>16.83</td>\n",
       "      <td>19.80</td>\n",
       "      <td>63.36</td>\n",
       "      <td>15.84</td>\n",
       "      <td>45.56</td>\n",
       "      <td>1.98</td>\n",
       "      <td>26.73</td>\n",
       "    </tr>\n",
       "    <tr>\n",
       "      <th>Canada</th>\n",
       "      <td>58.41</td>\n",
       "      <td>43.56</td>\n",
       "      <td>23.76</td>\n",
       "      <td>21.78</td>\n",
       "      <td>43.58</td>\n",
       "      <td>22.78</td>\n",
       "      <td>90.09</td>\n",
       "    </tr>\n",
       "    <tr>\n",
       "      <th>France</th>\n",
       "      <td>1.98</td>\n",
       "      <td>25.75</td>\n",
       "      <td>87.15</td>\n",
       "      <td>18.84</td>\n",
       "      <td>47.52</td>\n",
       "      <td>1.98</td>\n",
       "      <td>11.88</td>\n",
       "    </tr>\n",
       "    <tr>\n",
       "      <th>Germany</th>\n",
       "      <td>8.91</td>\n",
       "      <td>64.35</td>\n",
       "      <td>38.67</td>\n",
       "      <td>5.94</td>\n",
       "      <td>3.96</td>\n",
       "      <td>9.90</td>\n",
       "      <td>24.75</td>\n",
       "    </tr>\n",
       "    <tr>\n",
       "      <th>USA</th>\n",
       "      <td>87.18</td>\n",
       "      <td>19.80</td>\n",
       "      <td>23.76</td>\n",
       "      <td>149.66</td>\n",
       "      <td>77.27</td>\n",
       "      <td>123.77</td>\n",
       "      <td>41.62</td>\n",
       "    </tr>\n",
       "  </tbody>\n",
       "</table>\n",
       "</div>"
      ],
      "text/plain": [
       "InvoiceDOW  Friday  Monday  Saturday  Sunday  Thursday  Tuesday  Wednesday\n",
       "Country                                                                   \n",
       "Brazil       16.83   19.80     63.36   15.84     45.56     1.98      26.73\n",
       "Canada       58.41   43.56     23.76   21.78     43.58    22.78      90.09\n",
       "France        1.98   25.75     87.15   18.84     47.52     1.98      11.88\n",
       "Germany       8.91   64.35     38.67    5.94      3.96     9.90      24.75\n",
       "USA          87.18   19.80     23.76  149.66     77.27   123.77      41.62"
      ]
     },
     "execution_count": 62,
     "metadata": {},
     "output_type": "execute_result"
    }
   ],
   "source": [
    "top5data.pivot_table(\n",
    "    index='Country',\n",
    "    columns='InvoiceDOW',\n",
    "    values='Total',\n",
    "    aggfunc='sum'\n",
    ")"
   ]
  },
  {
   "cell_type": "code",
   "execution_count": 48,
   "metadata": {},
   "outputs": [
    {
     "data": {
      "text/plain": [
       "<AxesSubplot:xlabel='Country'>"
      ]
     },
     "execution_count": 48,
     "metadata": {},
     "output_type": "execute_result"
    },
    {
     "data": {
      "image/png": "[encoded data removed]",
      "text/plain": [
       "<Figure size 432x288 with 1 Axes>"
      ]
     },
     "metadata": {
      "needs_background": "light"
     },
     "output_type": "display_data"
    }
   ],
   "source": [
    "top5data.pivot_table(\n",
    "    index='Country',\n",
    "    columns='InvoiceDOW',\n",
    "    values='Total',\n",
    "    aggfunc='sum'\n",
    ").plot(kind='bar')"
   ]
  },
  {
   "cell_type": "code",
   "execution_count": 50,
   "metadata": {},
   "outputs": [
    {
     "data": {
      "text/plain": [
       "<AxesSubplot:>"
      ]
     },
     "execution_count": 50,
     "metadata": {},
     "output_type": "execute_result"
    },
    {
     "data": {
      "image/png": "[encoded data removed]",
      "text/plain": [
       "<Figure size 432x288 with 1 Axes>"
      ]
     },
     "metadata": {
      "needs_background": "light"
     },
     "output_type": "display_data"
    }
   ],
   "source": [
    "top5data.pivot_table(\n",
    "    index='Country',\n",
    "    columns='InvoiceDOW',\n",
    "    values='Total',\n",
    "    aggfunc='sum'\n",
    ").plot(kind='box')"
   ]
  },
  {
   "cell_type": "markdown",
   "metadata": {},
   "source": [
    "Suppose we want to compare the best-selling music genres in the top 5 countries. Let's try by first filling in the blanks (______) in the query below:\n",
    "```\n",
    "genre = pd.read_sql_query(\n",
    "    '''\n",
    "    SELECT \n",
    "    BillingCountry AS Country, ______.Name AS Genre \n",
    "    FROM ______ \n",
    "    LEFT JOIN invoice_items ON invoices.______ = invoice_items.______\n",
    "    LEFT JOIN tracks ON invoice_items.______ = ______.______ \n",
    "    LEFT JOIN ______ ON tracks.______ = genres.______\n",
    "    WHERE BillingCountry IN ('USA', 'Canada', 'France', 'Brazil', 'Germany')\n",
    "    ''',conn)\n",
    "```\n"
   ]
  },
  {
   "cell_type": "code",
   "execution_count": 64,
   "metadata": {},
   "outputs": [],
   "source": [
    "## Your code here\n",
    "genre = pd.read_sql_query(\n",
    "    '''\n",
    "    SELECT \n",
    "    BillingCountry AS Country, genres.Name AS Genre \n",
    "    FROM invoices \n",
    "    LEFT JOIN invoice_items ON invoices.InvoiceId = invoice_items.InvoiceId\n",
    "    LEFT JOIN tracks ON invoice_items.TrackId = tracks.TrackId \n",
    "    LEFT JOIN genres ON tracks.GenreId = genres.GenreId\n",
    "    WHERE BillingCountry IN ('USA', 'Canada', 'France', 'Brazil', 'Germany')\n",
    "    ''',conn)"
   ]
  },
  {
   "cell_type": "code",
   "execution_count": 72,
   "metadata": {},
   "outputs": [
    {
     "data": {
      "text/plain": [
       "<matplotlib.legend.Legend at 0x2b00281dac0>"
      ]
     },
     "execution_count": 72,
     "metadata": {},
     "output_type": "execute_result"
    },
    {
     "data": {
      "image/png": "[encoded data removed]",
      "text/plain": [
       "<Figure size 432x288 with 1 Axes>"
      ]
     },
     "metadata": {
      "needs_background": "light"
     },
     "output_type": "display_data"
    }
   ],
   "source": [
    "genre.\\\n",
    "groupby(['Country','Genre']).size().reset_index(name = 'Total Bought').\\\n",
    "sort_values(['Country','Total Bought'], ascending=False).\\\n",
    "groupby('Country').head(5).\\\n",
    "pivot(index = 'Country', columns = 'Genre').plot(kind='bar',stacked=True).\\\n",
    "legend(bbox_to_anchor=(1, 1), loc=2) "
   ]
  },
  {
   "cell_type": "markdown",
   "metadata": {},
   "source": [
    "Once you've completed the query for `genre` data frame above, copy and run the code below to create a bar chart that compares the best-selling song genres per country.\n",
    "```\n",
    "genre.\\\n",
    "groupby(['Country','Genre']).size().reset_index(name = 'Total Bought').\\\n",
    "sort_values(['Country','Total Bought'], ascending=False).\\\n",
    "groupby('Country').head(5).\\\n",
    "pivot(index = 'Country', columns = 'Genre').plot(kind='bar',stacked=True).\\\n",
    "legend(bbox_to_anchor=(1, 1), loc=2) \n",
    "```\n",
    "\n",
    "6. What genre is **not** among the top-selling genre in Germany?\n",
    "\n",
    "    *Genre apa yang **TIDAK** termasuk dalam genre terlaris di Jerman?*\n",
    "   - [ ] Blues\n",
    "   - [X] Jazz\n",
    "   - [ ] Alternative & Punk\n",
    "   - [ ] Latin"
   ]
  },
  {
   "cell_type": "code",
   "execution_count": null,
   "metadata": {},
   "outputs": [],
   "source": [
    "## Your code here\n"
   ]
  }
 ],
 "metadata": {
  "kernelspec": {
   "display_name": "theia_da",
   "language": "python",
   "name": "theia_da"
  },
  "language_info": {
   "codemirror_mode": {
    "name": "ipython",
    "version": 3
   },
   "file_extension": ".py",
   "mimetype": "text/x-python",
   "name": "python",
   "nbconvert_exporter": "python",
   "pygments_lexer": "ipython3",
   "version": "3.9.13"
  },
  "latex_envs": {
   "LaTeX_envs_menu_present": true,
   "autoclose": false,
   "autocomplete": true,
   "bibliofile": "biblio.bib",
   "cite_by": "apalike",
   "current_citInitial": 1,
   "eqLabelWithNumbers": true,
   "eqNumInitial": 1,
   "hotkeys": {
    "equation": "Ctrl-E",
    "itemize": "Ctrl-I"
   },
   "labels_anchors": false,
   "latex_user_defs": false,
   "report_style_numbering": false,
   "user_envs_cfg": false
  },
  "toc": {
   "base_numbering": 1,
   "nav_menu": {},
   "number_sections": true,
   "sideBar": true,
   "skip_h1_title": false,
   "title_cell": "Table of Contents",
   "title_sidebar": "Contents",
   "toc_cell": false,
   "toc_position": {},
   "toc_section_display": true,
   "toc_window_display": false
  }
 },
 "nbformat": 4,
 "nbformat_minor": 4
}
