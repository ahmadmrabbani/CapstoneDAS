{
 "cells": [
  {
   "cell_type": "markdown",
   "id": "62480ff6-d08f-4fbf-b4b7-a4d272c75fcb",
   "metadata": {},
   "source": [
    "Bikeshare API From Bani (Theia Night)"
   ]
  },
  {
   "cell_type": "markdown",
   "id": "6a109b37",
   "metadata": {},
   "source": [
    "Import Libraries"
   ]
  },
  {
   "cell_type": "code",
   "execution_count": 2,
   "id": "ee5b7119-68ca-4c52-aef2-7e55ae1e7b0c",
   "metadata": {},
   "outputs": [],
   "source": [
    "import sqlite3\n",
    "import requests\n",
    "from tqdm import tqdm\n",
    "\n",
    "from flask import Flask, request\n",
    "import json \n",
    "import numpy as np\n",
    "import pandas as pd"
   ]
  },
  {
   "cell_type": "markdown",
   "id": "86774391-698b-41d4-a2fa-c9943a8e1ded",
   "metadata": {},
   "source": [
    "# Introduction\n",
    "In most cases when we are running a business, there are a lot of data stakeholder outside our company. The problem is that we need to provide the access in a way that they will not break our security rules or concerns. One way to solve that is by creating an API for the database. In this project, we will introduce you on how python is used for data transaction management using Flask API. \n",
    "\n",
    "**Usecase**: Bikeshare App\\\n",
    "Have you ever rent a bike for faster mobility in town? In the past few years, this business once become a phenomenom. In Indonesia, there are lots of similar services, for example, the Jakarta government's \"GOWES\" bike sharing service that launcehd in July 2020. \n",
    "\n",
    "For the user perspective, the general journey is denoted as follows:\n",
    "- User scan the bike located at some bike station, sending the data to database as the intent of \"start riding\"\n",
    "- Once user has reached its destination station, he/she put back the bike, sending the data again to the database as the intent of \"finished riding\"\n",
    "\n",
    "For each activity, there are data transactions between user and database. And how do you think each user's phone communicate with the server for storing and receiving the data? Using API ofcourse! \n",
    "\n",
    "We will later create a simplified version of the API service which handles data transactions and analysis. \n",
    "\n",
    "\n",
    "**Goals**: Make an API service to connect 3rd party user with data using HTTP request\n",
    "\n",
    "**End Product**: A Flask API which capable of doing: \n",
    "- Input new data to database\n",
    "- Read specific data from database\n",
    "- Get specific insight from data analysis process (ie: best performing stations)\n",
    "\n",
    "**Scoring Metrics**: \n",
    "\n",
    "1. 1 point - Created Flask App\n",
    "\n",
    "-  create app.py file to make flask app\n",
    "-  create Flask app to execute all of the endpoint you have made\n",
    "\n",
    "2. 2 points - Created functionality to read or get specific data from the database\n",
    "\n",
    "- create query to read data from database\n",
    "- create function to execute read specific information into table from database\n",
    "\n",
    "3. 4 points - Created functionality to input new data into each table for the databases\n",
    "\n",
    "- create query to insert new data into stations and trips table\n",
    "- create function to execute input data into stations and trips table\n",
    "\n",
    "4. 3 points - Created static endpoints which return analytical result (must be different from point 2,3)\n",
    "\n",
    "- create query to make analytical resultfrom the data\n",
    "- create static endpoint to analyze the data from database, for example average trip durations\n",
    "    \n",
    "5. 3 points - Created dynamic endpoints which return analytical result (must be different from point 2,3,4)\n",
    "\n",
    "- create query to make analytical resultfrom the data\n",
    "- create dinamic endpoint to analyze the data from database, for example average trip durations for each bike_id\n",
    "\n",
    "6. 3 points - Created POST endpoint which receive input data, then utilize it to get analytical result (must be different from point 2,3,4,5)\n",
    "\n",
    "- create input data for refering into query for post endpoint\n",
    "- make query and aggregation function to implement the input\n",
    "\n",
    "**Tools**: \n",
    "- **Python** with **Jupyter Notebook**, installed with **required libraries**\n",
    "- **Visual Studio Code (VSCode)**: Recommended for writing application scripts\n",
    "- **TablePlus**: Recommended for easy database access and exploration\n",
    "- Postman: Optional for easy API testing\n"
   ]
  },
  {
   "cell_type": "markdown",
   "id": "7f0d31b3-764f-4d0a-941d-443c5a502e1f",
   "metadata": {},
   "source": [
    "# About the Data"
   ]
  },
  {
   "cell_type": "markdown",
   "id": "89ec6608-cf50-4f15-993c-99f186ece82c",
   "metadata": {},
   "source": [
    "The data that we will be using in this project is **[Austin Bike Share]()** dataset which contains information on bike trip start location, stop location, duration, type of bike share user in the city of Austin, Texas. Bike station location data is also provided. \n",
    "\n",
    "All the information is stored in a database called **austin_bikeshare.db**. However, we also provides the non existing data in csv files. These data then will be imported into the database using the API"
   ]
  },
  {
   "cell_type": "markdown",
   "id": "3c4833d3-015d-4f4a-b00d-21e00af777fc",
   "metadata": {},
   "source": [
    "Lists of files:\n",
    "- **austin_bikeshare.db**: The database, contains `trips` and `stations` table\n",
    "- **data/austin_bikeshare_stations.csv**: contains all the stations information which is not yet available in the database table\n",
    "- **data/austin_bikeshare_trips_2021.csv**: contains all 2021 data which is not yet available in the database table"
   ]
  },
  {
   "cell_type": "code",
   "execution_count": 3,
   "id": "52e3d146-1a21-4b1a-9ffc-817f4f084375",
   "metadata": {},
   "outputs": [],
   "source": [
    "# Reading the csv data\n",
    "trips = pd.read_csv('data/austin_bikeshare_trips_2021.csv')\n",
    "stations = pd.read_csv('data/austin_bikeshare_stations.csv')"
   ]
  },
  {
   "cell_type": "markdown",
   "id": "60bb1c45-5b3d-4987-beb7-7aafaa6b4609",
   "metadata": {},
   "source": [
    "## Taking a look for trips data\n",
    "`trips` table in database, or `austin_bikeshare_trips.csv` in original files. It roughly consisted of 1.3 million rows"
   ]
  },
  {
   "cell_type": "code",
   "execution_count": 4,
   "id": "69039e08-e759-4950-9253-3ad44c59cddf",
   "metadata": {},
   "outputs": [
    {
     "data": {
      "text/html": [
       "<div>\n",
       "<style scoped>\n",
       "    .dataframe tbody tr th:only-of-type {\n",
       "        vertical-align: middle;\n",
       "    }\n",
       "\n",
       "    .dataframe tbody tr th {\n",
       "        vertical-align: top;\n",
       "    }\n",
       "\n",
       "    .dataframe thead th {\n",
       "        text-align: right;\n",
       "    }\n",
       "</style>\n",
       "<table border=\"1\" class=\"dataframe\">\n",
       "  <thead>\n",
       "    <tr style=\"text-align: right;\">\n",
       "      <th></th>\n",
       "      <th>trip_id</th>\n",
       "      <th>subscriber_type</th>\n",
       "      <th>bikeid</th>\n",
       "      <th>start_time</th>\n",
       "      <th>start_station_id</th>\n",
       "      <th>start_station_name</th>\n",
       "      <th>end_station_id</th>\n",
       "      <th>end_station_name</th>\n",
       "      <th>duration_minutes</th>\n",
       "    </tr>\n",
       "  </thead>\n",
       "  <tbody>\n",
       "    <tr>\n",
       "      <th>0</th>\n",
       "      <td>23455589</td>\n",
       "      <td>Local365</td>\n",
       "      <td>174</td>\n",
       "      <td>2021-01-26 17:47:42 UTC</td>\n",
       "      <td>4059.0</td>\n",
       "      <td>Nash Hernandez/East @ RBJ South</td>\n",
       "      <td>3660.0</td>\n",
       "      <td>East 6th/Medina</td>\n",
       "      <td>7</td>\n",
       "    </tr>\n",
       "    <tr>\n",
       "      <th>1</th>\n",
       "      <td>23459960</td>\n",
       "      <td>Local365</td>\n",
       "      <td>19265</td>\n",
       "      <td>2021-01-28 08:03:52 UTC</td>\n",
       "      <td>4054.0</td>\n",
       "      <td>Rosewood/Chicon</td>\n",
       "      <td>4055.0</td>\n",
       "      <td>11th/Salina</td>\n",
       "      <td>16</td>\n",
       "    </tr>\n",
       "    <tr>\n",
       "      <th>2</th>\n",
       "      <td>23436548</td>\n",
       "      <td>Local365</td>\n",
       "      <td>18331</td>\n",
       "      <td>2021-01-21 07:09:48 UTC</td>\n",
       "      <td>4055.0</td>\n",
       "      <td>11th/Salina</td>\n",
       "      <td>4055.0</td>\n",
       "      <td>11th/Salina</td>\n",
       "      <td>25</td>\n",
       "    </tr>\n",
       "    <tr>\n",
       "      <th>3</th>\n",
       "      <td>23382542</td>\n",
       "      <td>Local365</td>\n",
       "      <td>19682</td>\n",
       "      <td>2021-01-04 09:38:18 UTC</td>\n",
       "      <td>4062.0</td>\n",
       "      <td>Lakeshore/Pleasant Valley</td>\n",
       "      <td>3293.0</td>\n",
       "      <td>East 2nd/Pedernales</td>\n",
       "      <td>5</td>\n",
       "    </tr>\n",
       "    <tr>\n",
       "      <th>4</th>\n",
       "      <td>23374882</td>\n",
       "      <td>Local365</td>\n",
       "      <td>19437</td>\n",
       "      <td>2021-01-02 15:04:01 UTC</td>\n",
       "      <td>3293.0</td>\n",
       "      <td>East 2nd/Pedernales</td>\n",
       "      <td>4062.0</td>\n",
       "      <td>Lakeshore/Pleasant Valley</td>\n",
       "      <td>5</td>\n",
       "    </tr>\n",
       "  </tbody>\n",
       "</table>\n",
       "</div>"
      ],
      "text/plain": [
       "    trip_id subscriber_type bikeid               start_time  start_station_id  \\\n",
       "0  23455589        Local365    174  2021-01-26 17:47:42 UTC            4059.0   \n",
       "1  23459960        Local365  19265  2021-01-28 08:03:52 UTC            4054.0   \n",
       "2  23436548        Local365  18331  2021-01-21 07:09:48 UTC            4055.0   \n",
       "3  23382542        Local365  19682  2021-01-04 09:38:18 UTC            4062.0   \n",
       "4  23374882        Local365  19437  2021-01-02 15:04:01 UTC            3293.0   \n",
       "\n",
       "                start_station_name  end_station_id           end_station_name  \\\n",
       "0  Nash Hernandez/East @ RBJ South          3660.0            East 6th/Medina   \n",
       "1                  Rosewood/Chicon          4055.0               11th/Salina    \n",
       "2                     11th/Salina           4055.0               11th/Salina    \n",
       "3        Lakeshore/Pleasant Valley          3293.0        East 2nd/Pedernales   \n",
       "4              East 2nd/Pedernales          4062.0  Lakeshore/Pleasant Valley   \n",
       "\n",
       "   duration_minutes  \n",
       "0                 7  \n",
       "1                16  \n",
       "2                25  \n",
       "3                 5  \n",
       "4                 5  "
      ]
     },
     "execution_count": 4,
     "metadata": {},
     "output_type": "execute_result"
    }
   ],
   "source": [
    "trips.head()"
   ]
  },
  {
   "cell_type": "markdown",
   "id": "01ee13e1-1110-45fe-8831-1bf7604d6f87",
   "metadata": {},
   "source": [
    "**Data Descriptions**:\n",
    "- `bikeid`: integer id of bike\n",
    "- `checkout_time`: HH:MM:SS, see start time for date stamp\n",
    "- `duration_minutes`: int minutes of trip duration\n",
    "- `endstationid`: integer id of end station\n",
    "- `endstationname`: string of end station name\n",
    "- `month`: month, integer\n",
    "- `startstationid`: integer id of start station\n",
    "- `startstationname`: string of start station name\n",
    "- `start_time`: YYYY-MM-DD HH:MM:SS\n",
    "- `subscriber_type`: membership typ e.g. walk up, annual, other bike share, etc\n",
    "- `trip_id`: unique trip id int\n",
    "- `year`: year of trip, int"
   ]
  },
  {
   "cell_type": "markdown",
   "id": "44fd2bdd-a1e9-4734-b7a7-8ddc8f3ee0e2",
   "metadata": {},
   "source": [
    "## Taking a look for stations data\n",
    "`stations` table in database, or `austin_bikeshare_stations.csv` in original files "
   ]
  },
  {
   "cell_type": "code",
   "execution_count": 5,
   "id": "de5298bf-64a9-4565-a83d-ce1f4d1f4403",
   "metadata": {},
   "outputs": [
    {
     "data": {
      "text/html": [
       "<div>\n",
       "<style scoped>\n",
       "    .dataframe tbody tr th:only-of-type {\n",
       "        vertical-align: middle;\n",
       "    }\n",
       "\n",
       "    .dataframe tbody tr th {\n",
       "        vertical-align: top;\n",
       "    }\n",
       "\n",
       "    .dataframe thead th {\n",
       "        text-align: right;\n",
       "    }\n",
       "</style>\n",
       "<table border=\"1\" class=\"dataframe\">\n",
       "  <thead>\n",
       "    <tr style=\"text-align: right;\">\n",
       "      <th></th>\n",
       "      <th>station_id</th>\n",
       "      <th>name</th>\n",
       "      <th>status</th>\n",
       "      <th>address</th>\n",
       "      <th>alternate_name</th>\n",
       "      <th>city_asset_number</th>\n",
       "      <th>property_type</th>\n",
       "      <th>number_of_docks</th>\n",
       "      <th>power_type</th>\n",
       "      <th>footprint_length</th>\n",
       "      <th>footprint_width</th>\n",
       "      <th>notes</th>\n",
       "      <th>council_district</th>\n",
       "      <th>modified_date</th>\n",
       "    </tr>\n",
       "  </thead>\n",
       "  <tbody>\n",
       "    <tr>\n",
       "      <th>96</th>\n",
       "      <td>3795</td>\n",
       "      <td>Dean Keeton &amp; Whitis</td>\n",
       "      <td>active</td>\n",
       "      <td>300 W. Dean Keeton St.</td>\n",
       "      <td>NaN</td>\n",
       "      <td>32671.0</td>\n",
       "      <td>undetermined_parking</td>\n",
       "      <td>19.0</td>\n",
       "      <td>solar</td>\n",
       "      <td>55.0</td>\n",
       "      <td>5.0</td>\n",
       "      <td>NaN</td>\n",
       "      <td>9</td>\n",
       "      <td>2021-01-04T12:00:00Z</td>\n",
       "    </tr>\n",
       "    <tr>\n",
       "      <th>97</th>\n",
       "      <td>3797</td>\n",
       "      <td>21st &amp; University</td>\n",
       "      <td>active</td>\n",
       "      <td>2007 University Ave.</td>\n",
       "      <td>NaN</td>\n",
       "      <td>32674.0</td>\n",
       "      <td>undetermined_parking</td>\n",
       "      <td>19.0</td>\n",
       "      <td>solar</td>\n",
       "      <td>55.0</td>\n",
       "      <td>5.0</td>\n",
       "      <td>ROW might belong to UT</td>\n",
       "      <td>9</td>\n",
       "      <td>2021-01-04T12:00:00Z</td>\n",
       "    </tr>\n",
       "  </tbody>\n",
       "</table>\n",
       "</div>"
      ],
      "text/plain": [
       "    station_id                  name  status                 address  \\\n",
       "96        3795  Dean Keeton & Whitis  active  300 W. Dean Keeton St.   \n",
       "97        3797     21st & University  active    2007 University Ave.   \n",
       "\n",
       "   alternate_name  city_asset_number         property_type  number_of_docks  \\\n",
       "96            NaN            32671.0  undetermined_parking             19.0   \n",
       "97            NaN            32674.0  undetermined_parking             19.0   \n",
       "\n",
       "   power_type  footprint_length  footprint_width                   notes  \\\n",
       "96      solar              55.0              5.0                     NaN   \n",
       "97      solar              55.0              5.0  ROW might belong to UT   \n",
       "\n",
       "    council_district         modified_date  \n",
       "96                 9  2021-01-04T12:00:00Z  \n",
       "97                 9  2021-01-04T12:00:00Z  "
      ]
     },
     "execution_count": 5,
     "metadata": {},
     "output_type": "execute_result"
    }
   ],
   "source": [
    "stations.tail(2)"
   ]
  },
  {
   "cell_type": "markdown",
   "id": "fb167853-53c1-4bd5-aea4-3bcf0d0cba5e",
   "metadata": {},
   "source": [
    "**stations table (or austin_bikeshare_trips.csv)**:\n",
    "- `station_id`: integer id of station\n",
    "- `name`: string of station name\n",
    "- `status`: string of station status (active, closed, moved, ACL-only)\n",
    "- `address`: string of station address\n",
    "- `alternate_name`: string of station alternative name\n",
    "- `city_asset_number`: integer of station's asset number\n",
    "- `property_type`: string of station's property type\n",
    "- `number_of_docks`: integer of number of available bike docks\n",
    "- `power_type`: string of station's power source type\n",
    "- `footprint_length`: float of station' blueprint length (size of the station). Probably in meters\n",
    "- `footprint_width`: float of station' blueprint width (size of the station). Probably in meters\n",
    "- `notes`: string of additional notes\n",
    "- `council_district`: integer of stations's council district\n",
    "- `modified_date`: date of last modified information regarding the station"
   ]
  },
  {
   "cell_type": "markdown",
   "id": "c424d7fc-0fe4-4010-959f-d030c825abc5",
   "metadata": {},
   "source": [
    "# 3 Database"
   ]
  },
  {
   "cell_type": "markdown",
   "id": "c8ab9b50-dc5c-431a-a01e-b32bf0a10709",
   "metadata": {},
   "source": [
    "The first important task is to make sure we can securely make connections to the database. In this scenario, we will connect to sqlite database, `austin_bikeshare.db` via python. In this part, we will re-visit on how to work with databases, started with making a connection, get some data, and insert data into it. \n",
    "\n",
    "You can directly connect and view the database using TablePlus, or run the following code to create the connection"
   ]
  },
  {
   "cell_type": "code",
   "execution_count": 6,
   "id": "bbaec86f-2ce8-48d2-b37c-d949e53d18ce",
   "metadata": {},
   "outputs": [],
   "source": [
    "# Define a function to create connection for reusability purpose\n",
    "def make_connection():\n",
    "    connection = sqlite3.connect('austin_bikeshare.db')\n",
    "    return connection\n",
    "\n",
    "# Make a connection\n",
    "conn = make_connection()"
   ]
  },
  {
   "cell_type": "markdown",
   "id": "63da1e43-7bea-473c-9b7e-f9b86e13a8ec",
   "metadata": {},
   "source": [
    "## POST: Insert data into database\n",
    "\n",
    "Generally, POST method will utilize the data sent by user for specific purporse, for example: \n",
    "\n",
    "- Insert new data into the database. \n",
    "- Operate the data into some function"
   ]
  },
  {
   "cell_type": "markdown",
   "id": "27d0a87a-a3cf-4a38-85bb-3036718f2e62",
   "metadata": {},
   "source": [
    "We will learn how to insert data into a specific table in our database. Please refer to the following code to create and run the query for the given task"
   ]
  },
  {
   "cell_type": "code",
   "execution_count": 10,
   "id": "1d200cd0-8a48-4b45-800c-c39c25bafcb4",
   "metadata": {},
   "outputs": [],
   "source": [
    "# Get the data values\n",
    "data = tuple(stations.iloc[20].fillna('').values)\n",
    "\n",
    "# Make the query\n",
    "query = f\"\"\"\n",
    "INSERT INTO stations\n",
    "VALUES {data}\n",
    "\"\"\""
   ]
  },
  {
   "cell_type": "code",
   "execution_count": 8,
   "id": "1bf0754c-9cea-4d62-b870-1323bb2f7c1b",
   "metadata": {},
   "outputs": [
    {
     "name": "stdout",
     "output_type": "stream",
     "text": [
      "\n",
      "INSERT INTO stations\n",
      "VALUES (2572, 'Barton Springs Pool', 'active', '2200 William Barton Dr.', '', 16758.0, 'parkland', 13.0, 'solar', 40.0, 5.0, '', 8, '2021-01-04T12:00:00Z')\n",
      "\n"
     ]
    }
   ],
   "source": [
    "# See the actual query looks like\n",
    "print(query)"
   ]
  },
  {
   "cell_type": "code",
   "execution_count": 11,
   "id": "7c5c2d27-93ee-48a2-8228-d54c26b6f3da",
   "metadata": {},
   "outputs": [
    {
     "ename": "IntegrityError",
     "evalue": "UNIQUE constraint failed: stations.station_id",
     "output_type": "error",
     "traceback": [
      "\u001b[1;31m---------------------------------------------------------------------------\u001b[0m",
      "\u001b[1;31mIntegrityError\u001b[0m                            Traceback (most recent call last)",
      "Cell \u001b[1;32mIn [11], line 2\u001b[0m\n\u001b[0;32m      1\u001b[0m \u001b[38;5;66;03m# Execute the query \u001b[39;00m\n\u001b[1;32m----> 2\u001b[0m conn\u001b[38;5;241m.\u001b[39mexecute(query)\n",
      "\u001b[1;31mIntegrityError\u001b[0m: UNIQUE constraint failed: stations.station_id"
     ]
    }
   ],
   "source": [
    "# Execute the query \n",
    "conn.execute(query)"
   ]
  },
  {
   "cell_type": "code",
   "execution_count": 12,
   "id": "3b35411a-c2bd-4a20-9663-50356ce74f7c",
   "metadata": {},
   "outputs": [],
   "source": [
    "# Commit changes to database\n",
    "conn.commit()"
   ]
  },
  {
   "cell_type": "markdown",
   "id": "433e02eb-4244-4bf9-8cd6-2f65da183431",
   "metadata": {},
   "source": [
    "Once the code above succesful, it's recomended to wrap it into a function so that we can reuse it in the future. Complete the following codes to make the function:"
   ]
  },
  {
   "cell_type": "code",
   "execution_count": null,
   "id": "604b25b8-66f9-4707-a092-a945023133cc",
   "metadata": {},
   "outputs": [],
   "source": [
    "def insert_into_stations(data, conn):\n",
    "    query = f\"\"\"INSERT INTO stations values {data}\"\"\"\n",
    "    try:\n",
    "        conn.execute(query)\n",
    "    except:\n",
    "        return 'Error'\n",
    "    conn.commit()\n",
    "    return 'OK'"
   ]
  },
  {
   "cell_type": "code",
   "execution_count": null,
   "id": "97b6ec11-9394-4b27-8203-4892c79cfbc5",
   "metadata": {},
   "outputs": [],
   "source": [
    "# Example use of the function \n",
    "conn = make_connection()\n",
    "data = tuple(stations.iloc[25].fillna('').values) # Randomly select a data\n",
    "result = insert_into_stations(data, conn)"
   ]
  },
  {
   "cell_type": "code",
   "execution_count": null,
   "id": "513c8720",
   "metadata": {},
   "outputs": [],
   "source": [
    "result"
   ]
  },
  {
   "cell_type": "markdown",
   "id": "d9beafb2-ee93-4532-a0f9-b10ac56a6835",
   "metadata": {},
   "source": [
    "**TASK: Create a Function to insert data for `trips` table**"
   ]
  },
  {
   "cell_type": "code",
   "execution_count": null,
   "id": "4340eb51",
   "metadata": {},
   "outputs": [],
   "source": [
    "trips.head(3)"
   ]
  },
  {
   "cell_type": "code",
   "execution_count": null,
   "id": "777d9027",
   "metadata": {},
   "outputs": [],
   "source": [
    "query_trips = f\"\"\"\n",
    "INSERT INTO trips\n",
    "VALUES {data_trips}\n",
    "\"\"\""
   ]
  },
  {
   "cell_type": "code",
   "execution_count": null,
   "id": "aac0820e-2594-49c5-a98f-e72e8917da48",
   "metadata": {},
   "outputs": [],
   "source": [
    "# Your code here, jika error running query yang data_trips dahulu \n",
    "def insert_into_trips(data_trips, conn):\n",
    "    query_trips = f\"\"\"INSERT INTO trips values {data_trips}\"\"\"\n",
    "    try: \n",
    "        conn.execute(query_trips)\n",
    "    except:\n",
    "        return 'Error insert into Trips'\n",
    "    conn.commit()\n",
    "    return 'OK'"
   ]
  },
  {
   "cell_type": "code",
   "execution_count": null,
   "id": "69e179e2",
   "metadata": {},
   "outputs": [],
   "source": [
    "query_trips"
   ]
  },
  {
   "cell_type": "code",
   "execution_count": null,
   "id": "f29e5708",
   "metadata": {},
   "outputs": [],
   "source": [
    "data_trips = tuple(trips.iloc[20].fillna('').values)\n",
    "conn = make_connection()\n",
    "result_trips = insert_into_trips(data_trips,conn)"
   ]
  },
  {
   "cell_type": "code",
   "execution_count": null,
   "id": "9569c266",
   "metadata": {},
   "outputs": [],
   "source": [
    "result_trips"
   ]
  },
  {
   "cell_type": "code",
   "execution_count": null,
   "id": "ed113538",
   "metadata": {},
   "outputs": [],
   "source": [
    "data_trips"
   ]
  },
  {
   "cell_type": "markdown",
   "id": "72c93934-9c7e-495e-8613-9a5e73833577",
   "metadata": {},
   "source": [
    "## GET: Read specific data"
   ]
  },
  {
   "cell_type": "markdown",
   "id": "f2486c61-a982-4d9f-831f-1fa77a21a417",
   "metadata": {},
   "source": [
    "Generally, GET method will ask for specific the data in the database, alongside with additional information we might send. For example: \n",
    "- Get number of unique user\n",
    "- Get full trips information for specific user id\n",
    "- Get average trips duration and length for specific user id\n",
    "\n",
    "In this example, we will implement the most basic GET method, that is to get Station information in the table based on specific Station ID"
   ]
  },
  {
   "cell_type": "code",
   "execution_count": null,
   "id": "09b1e8f2-fc04-4c06-a23e-d31a93f65ccd",
   "metadata": {},
   "outputs": [],
   "source": [
    "# Get Specific Station ID  Query\n",
    "station_id = 1004\n",
    "query_station_id = f\"\"\"\n",
    "SELECT * FROM stations\n",
    "WHERE station_id = {station_id}\n",
    "\"\"\"\n",
    "\n",
    "# Get all station ID Query\n",
    "query_station_all = \"SELECT * FROM stations\""
   ]
  },
  {
   "cell_type": "code",
   "execution_count": null,
   "id": "c4e317b7",
   "metadata": {},
   "outputs": [],
   "source": [
    "print(query_station_id)"
   ]
  },
  {
   "cell_type": "code",
   "execution_count": null,
   "id": "2b014e89-f857-4e18-9607-2b7d6139a1de",
   "metadata": {},
   "outputs": [],
   "source": [
    "# Run the query and get the result\n",
    "result = pd.read_sql_query(query_station_id, conn)"
   ]
  },
  {
   "cell_type": "code",
   "execution_count": null,
   "id": "5c7a54ab-e979-4c1c-b27c-60e501cb3733",
   "metadata": {},
   "outputs": [],
   "source": [
    "result"
   ]
  },
  {
   "cell_type": "markdown",
   "id": "4e589298-cbb0-4720-8275-7f09c18a9cca",
   "metadata": {},
   "source": [
    "Just like the previous section, create a function to read specific station"
   ]
  },
  {
   "cell_type": "code",
   "execution_count": null,
   "id": "697114ad-0305-4d98-8cad-fa384be07e6b",
   "metadata": {},
   "outputs": [],
   "source": [
    "def get_station_id(station_id, conn):\n",
    "    query = f\"\"\"SELECT * FROM stations WHERE station_id = {station_id}\"\"\"\n",
    "    result = pd.read_sql_query(query, conn)\n",
    "    return result \n",
    "\n",
    "def get_all_stations(conn):\n",
    "    query = f\"\"\"SELECT * FROM stations\"\"\"\n",
    "    result = pd.read_sql_query(query, conn)\n",
    "    return result"
   ]
  },
  {
   "cell_type": "code",
   "execution_count": null,
   "id": "e1cf69d1",
   "metadata": {},
   "outputs": [],
   "source": [
    "station_id = 2546\n",
    "get_station = get_station_id(station_id, conn)\n",
    "get_all_station = get_all_stations(conn)"
   ]
  },
  {
   "cell_type": "code",
   "execution_count": null,
   "id": "a1009b54",
   "metadata": {},
   "outputs": [],
   "source": [
    "get_station"
   ]
  },
  {
   "cell_type": "markdown",
   "id": "d4d9eae2-06d8-4fed-a14b-adb32a3fbe1d",
   "metadata": {},
   "source": [
    "**TASK: Create a Function to read data from `trips` table**"
   ]
  },
  {
   "cell_type": "code",
   "execution_count": null,
   "id": "543a6298-aace-41f2-bc0f-9ae0277f5428",
   "metadata": {},
   "outputs": [],
   "source": [
    "# Your code here\n",
    "def get_trip_id(trip_id, conn):\n",
    "    query = f\"\"\"SELECT * FROM trips WHERE id = {trip_id}\"\"\"\n",
    "    result=pd.read_sql_query(query,conn)\n",
    "    return result\n",
    "    \n",
    "def get_all_trips(conn):\n",
    "    query = f\"\"\"SELECT * FROM trips\"\"\"\n",
    "    result=pd.read_sql_query(query,conn)\n",
    "    return result"
   ]
  },
  {
   "cell_type": "code",
   "execution_count": null,
   "id": "8badd561",
   "metadata": {},
   "outputs": [],
   "source": [
    "trip_id = 23386724\n",
    "get_trip = get_trip_id(trip_id, conn)\n",
    "get_all_trip = get_all_trips(conn)"
   ]
  },
  {
   "cell_type": "code",
   "execution_count": null,
   "id": "7698a5ff",
   "metadata": {},
   "outputs": [],
   "source": [
    "get_all_trip"
   ]
  },
  {
   "cell_type": "code",
   "execution_count": null,
   "id": "303190ba",
   "metadata": {},
   "outputs": [],
   "source": [
    "get_trip"
   ]
  },
  {
   "cell_type": "markdown",
   "id": "b024e79d-c7db-43ca-a226-45e934c5cdc0",
   "metadata": {},
   "source": [
    "# Flask App"
   ]
  },
  {
   "cell_type": "markdown",
   "id": "d167587d-7e47-443c-b237-07f4201a6848",
   "metadata": {},
   "source": [
    "Flask is a micro-framework for python. Generally we can build any application out of it. To start with, let's make our first empy flask app. \n",
    "Creata a new file `app.py`, then copy-paste the following codes into it and save it. \n",
    "\n",
    "*Notes: it's recomended to use vscode as editor since it support vast linting supports, including python which we find really helpful in coding*"
   ]
  },
  {
   "cell_type": "markdown",
   "id": "fae662bf-4667-4b4c-a5a8-e8118d45e151",
   "metadata": {},
   "source": [
    "```python\n",
    "from flask import Flask, request\n",
    "app = Flask(__name__) \n",
    "\n",
    "if __name__ == '__main__':\n",
    "    app.run(debug=True, port=5000)\n",
    "```"
   ]
  },
  {
   "cell_type": "markdown",
   "id": "20a3e191-2d1d-42f2-b620-ab8d4535fe5f",
   "metadata": {},
   "source": [
    "To run the app, you can open your terminal, go to the specific folder and run `python app.py` using your designated virtual environment"
   ]
  },
  {
   "cell_type": "markdown",
   "id": "b7bd4362-55ad-48e7-9ed5-a9efb269d191",
   "metadata": {},
   "source": [
    "## Routes and Endpoints"
   ]
  },
  {
   "cell_type": "markdown",
   "id": "87f78576-5db9-40cc-9ccf-5f865caf0689",
   "metadata": {},
   "source": [
    "### Implement endpoints"
   ]
  },
  {
   "cell_type": "markdown",
   "id": "e52ff12b-2613-4a15-ad98-5cf8881eb5ed",
   "metadata": {},
   "source": [
    "If you succesfully run the previous app and access the localhost:5000 , you might get an 404 not found error. This is because we **have not** define yet what will happen if people accessing our root path of the app (localhost:5000/)\n",
    "\n",
    "Add the following example of route or endpoint into your `app.py` just before the `if __name__ === '__main__':` line, and reload the page to see if it works"
   ]
  },
  {
   "cell_type": "markdown",
   "id": "6870c3db-a88d-4ae6-a791-04f9e212f3f8",
   "metadata": {},
   "source": [
    "```python \n",
    "@app.route('/')\n",
    "def home():\n",
    "    return 'Hello World'\n",
    "```"
   ]
  },
  {
   "cell_type": "markdown",
   "id": "f23f1514-2ea7-4699-9b3c-b8ba2ee608eb",
   "metadata": {},
   "source": [
    "Above endpoints will runs the `home` function anytime user access the `/` page.\n",
    "\n",
    "Since we are going to handle all the requests through this app, the very next step is to implement our functionalites. Let's start with implementing the functionality to read all station data\n",
    "\n",
    "we will add the `get_all_stations()` functions into our app, create a `@app.route('/stations/')` endpoint and call the function in it. The code should looks like:\n",
    "\n",
    "```python \n",
    "@app.route('/stations/')\n",
    "def route_all_stations():\n",
    "    conn = make_connection()\n",
    "    stations = get_all_stations(conn)\n",
    "    return stations.to_json()\n",
    "    \n",
    "def get_all_stations(conn):\n",
    "    query = f\"\"\"SELECT * FROM stations\"\"\"\n",
    "    result = pd.read_sql_query(query, conn)\n",
    "    return result\n",
    "```"
   ]
  },
  {
   "cell_type": "markdown",
   "id": "11a81990-4add-4a66-8771-4832866f938b",
   "metadata": {},
   "source": [
    "However, adding just above codes is not enough. If you see, there is a dependency inside the function, which is `make_connection()` function. Other than that, we will be using all the required libraries. \n",
    "\n",
    "Hence, we can complete the code by : \n",
    "- import the required libraries at the top of the `app.py` file\n",
    "- write the `make_connection()` function before any routes declarations"
   ]
  },
  {
   "cell_type": "markdown",
   "id": "536b16f2-1cc4-4605-88ae-feee9cc6eec7",
   "metadata": {},
   "source": [
    "Once it's completed, you should see no errors in the vscode screen, and your endpoint should work just fine and returns all the stations. It's now your task to impelement the `get_all_trips` into the app "
   ]
  },
  {
   "cell_type": "markdown",
   "id": "c8eec277-fdd5-4367-83e5-f6916794b186",
   "metadata": {},
   "source": [
    "**TASK: Implement `get_all_trips()` method into the app** \\\n",
    "Place it under `@app.route('/trips/')` endpoint"
   ]
  },
  {
   "cell_type": "markdown",
   "id": "be1e72d6",
   "metadata": {},
   "source": [
    "# your code [bani]\n",
    "```python\n",
    "@app.route('/trips/')\n",
    "def route_all_trips():\n",
    "    conn = make_connection()\n",
    "    trips = get_all_trips(conn)\n",
    "    return trips.to_json()\n",
    "\n",
    "\n",
    "def get_all_trips(conn):\n",
    "    query = f\"\"\"SELECT * FROM trips\"\"\"\n",
    "    result = pd.read_sql_query(query,conn)\n",
    "    return result\n",
    "```"
   ]
  },
  {
   "cell_type": "markdown",
   "id": "bc45734a-5d15-4e4c-837f-64ab1cafdde6",
   "metadata": {},
   "source": [
    "### Access Endpoints"
   ]
  },
  {
   "cell_type": "markdown",
   "id": "43143d5d-a361-4141-8f35-2b47f112075a",
   "metadata": {},
   "source": [
    "To access our endpoints using python, simply use `requests` library followed by the request method (post, get, put, delete, etc) the passed in the url or data "
   ]
  },
  {
   "cell_type": "code",
   "execution_count": 20,
   "id": "f1a3ebbe-591d-4b38-b858-6ef1ea787d74",
   "metadata": {},
   "outputs": [],
   "source": [
    "url = 'http://127.0.0.1:5001/stations/'\n",
    "res = requests.get(url)"
   ]
  },
  {
   "cell_type": "code",
   "execution_count": 21,
   "id": "64a3ec96",
   "metadata": {},
   "outputs": [
    {
     "data": {
      "text/plain": [
       "<Response [200]>"
      ]
     },
     "execution_count": 21,
     "metadata": {},
     "output_type": "execute_result"
    }
   ],
   "source": [
    "res"
   ]
  },
  {
   "cell_type": "markdown",
   "id": "9a74d722-50f9-4c1c-9fca-ab8708cf9848",
   "metadata": {},
   "source": [
    "The response sent by the server was not only contains bare data. It was packed as HTTP response, meaning that we need to unpack the response first  in order to get the data. we can use `res.json()` to obtain it, then use pandas to transform it into dataframe for readibility or future analysis purposes. "
   ]
  },
  {
   "cell_type": "code",
   "execution_count": 22,
   "id": "c2b40a51-3e8f-4991-b58e-70cb3b95f345",
   "metadata": {},
   "outputs": [
    {
     "data": {
      "text/html": [
       "<div>\n",
       "<style scoped>\n",
       "    .dataframe tbody tr th:only-of-type {\n",
       "        vertical-align: middle;\n",
       "    }\n",
       "\n",
       "    .dataframe tbody tr th {\n",
       "        vertical-align: top;\n",
       "    }\n",
       "\n",
       "    .dataframe thead th {\n",
       "        text-align: right;\n",
       "    }\n",
       "</style>\n",
       "<table border=\"1\" class=\"dataframe\">\n",
       "  <thead>\n",
       "    <tr style=\"text-align: right;\">\n",
       "      <th></th>\n",
       "      <th>station_id</th>\n",
       "      <th>name</th>\n",
       "      <th>status</th>\n",
       "      <th>address</th>\n",
       "      <th>alternate_name</th>\n",
       "      <th>city_asset_number</th>\n",
       "      <th>property_type</th>\n",
       "      <th>number_of_docks</th>\n",
       "      <th>power_type</th>\n",
       "      <th>footprint_length</th>\n",
       "      <th>footprint_width</th>\n",
       "      <th>notes</th>\n",
       "      <th>council_district</th>\n",
       "      <th>modified_date</th>\n",
       "    </tr>\n",
       "  </thead>\n",
       "  <tbody>\n",
       "    <tr>\n",
       "      <th>0</th>\n",
       "      <td>2500</td>\n",
       "      <td>Republic Square</td>\n",
       "      <td>closed</td>\n",
       "      <td>425 W 4th Street</td>\n",
       "      <td></td>\n",
       "      <td></td>\n",
       "      <td></td>\n",
       "      <td></td>\n",
       "      <td></td>\n",
       "      <td></td>\n",
       "      <td></td>\n",
       "      <td></td>\n",
       "      <td>9</td>\n",
       "      <td>2021-01-04T12:00:00Z</td>\n",
       "    </tr>\n",
       "    <tr>\n",
       "      <th>1</th>\n",
       "      <td>2546</td>\n",
       "      <td>ACC - West &amp; 12th Street</td>\n",
       "      <td>closed</td>\n",
       "      <td>1231 West Ave.</td>\n",
       "      <td></td>\n",
       "      <td></td>\n",
       "      <td></td>\n",
       "      <td></td>\n",
       "      <td></td>\n",
       "      <td></td>\n",
       "      <td></td>\n",
       "      <td></td>\n",
       "      <td>9</td>\n",
       "      <td>2021-01-04T12:00:00Z</td>\n",
       "    </tr>\n",
       "    <tr>\n",
       "      <th>2</th>\n",
       "      <td>2712</td>\n",
       "      <td>Toomey Rd @ South Lamar</td>\n",
       "      <td>closed</td>\n",
       "      <td>1301 Toomey Road</td>\n",
       "      <td></td>\n",
       "      <td></td>\n",
       "      <td></td>\n",
       "      <td></td>\n",
       "      <td></td>\n",
       "      <td></td>\n",
       "      <td></td>\n",
       "      <td></td>\n",
       "      <td>5</td>\n",
       "      <td>2021-01-04T12:00:00Z</td>\n",
       "    </tr>\n",
       "    <tr>\n",
       "      <th>3</th>\n",
       "      <td>1004</td>\n",
       "      <td>Red River &amp; LBJ Library</td>\n",
       "      <td>closed</td>\n",
       "      <td>2322 Red River Street</td>\n",
       "      <td></td>\n",
       "      <td></td>\n",
       "      <td></td>\n",
       "      <td></td>\n",
       "      <td></td>\n",
       "      <td></td>\n",
       "      <td></td>\n",
       "      <td></td>\n",
       "      <td>1</td>\n",
       "      <td>2021-01-04T12:00:00Z</td>\n",
       "    </tr>\n",
       "    <tr>\n",
       "      <th>4</th>\n",
       "      <td>2575</td>\n",
       "      <td>Riverside @ S. Lamar</td>\n",
       "      <td>active</td>\n",
       "      <td>Presented by Austin Parks Foundation</td>\n",
       "      <td></td>\n",
       "      <td>16736</td>\n",
       "      <td>parkland</td>\n",
       "      <td>15</td>\n",
       "      <td>solar</td>\n",
       "      <td>45.0</td>\n",
       "      <td>5.0</td>\n",
       "      <td>parkland at ROW/easement</td>\n",
       "      <td>5</td>\n",
       "      <td>2021-01-04T12:00:00Z</td>\n",
       "    </tr>\n",
       "    <tr>\n",
       "      <th>...</th>\n",
       "      <td>...</td>\n",
       "      <td>...</td>\n",
       "      <td>...</td>\n",
       "      <td>...</td>\n",
       "      <td>...</td>\n",
       "      <td>...</td>\n",
       "      <td>...</td>\n",
       "      <td>...</td>\n",
       "      <td>...</td>\n",
       "      <td>...</td>\n",
       "      <td>...</td>\n",
       "      <td>...</td>\n",
       "      <td>...</td>\n",
       "      <td>...</td>\n",
       "    </tr>\n",
       "    <tr>\n",
       "      <th>93</th>\n",
       "      <td>4048</td>\n",
       "      <td>South Congress @ Bouldin Creek</td>\n",
       "      <td>active</td>\n",
       "      <td>799 South Congress Avenue</td>\n",
       "      <td></td>\n",
       "      <td>32746</td>\n",
       "      <td>undetermined_parking</td>\n",
       "      <td>13</td>\n",
       "      <td>solar</td>\n",
       "      <td>40.0</td>\n",
       "      <td>5.0</td>\n",
       "      <td></td>\n",
       "      <td>9</td>\n",
       "      <td>2021-01-04T12:00:00Z</td>\n",
       "    </tr>\n",
       "    <tr>\n",
       "      <th>94</th>\n",
       "      <td>3377</td>\n",
       "      <td>MoPac Pedestrian Bridge @ Veterans Drive</td>\n",
       "      <td>active</td>\n",
       "      <td>2105 Veterans Dr.</td>\n",
       "      <td></td>\n",
       "      <td>16598</td>\n",
       "      <td>undetermined_parking</td>\n",
       "      <td>19</td>\n",
       "      <td>solar</td>\n",
       "      <td>55.0</td>\n",
       "      <td>5.0</td>\n",
       "      <td>parkland in ROW/eastment</td>\n",
       "      <td>9</td>\n",
       "      <td>2021-01-04T12:00:00Z</td>\n",
       "    </tr>\n",
       "    <tr>\n",
       "      <th>95</th>\n",
       "      <td>3794</td>\n",
       "      <td>Dean Keeton &amp; Speedway</td>\n",
       "      <td>active</td>\n",
       "      <td>180 E. Dean Keeton St.</td>\n",
       "      <td></td>\n",
       "      <td>32670</td>\n",
       "      <td>undetermined_parking</td>\n",
       "      <td>19</td>\n",
       "      <td>solar</td>\n",
       "      <td>55.0</td>\n",
       "      <td>5.0</td>\n",
       "      <td></td>\n",
       "      <td>9</td>\n",
       "      <td>2021-01-04T12:00:00Z</td>\n",
       "    </tr>\n",
       "    <tr>\n",
       "      <th>96</th>\n",
       "      <td>3795</td>\n",
       "      <td>Dean Keeton &amp; Whitis</td>\n",
       "      <td>active</td>\n",
       "      <td>300 W. Dean Keeton St.</td>\n",
       "      <td></td>\n",
       "      <td>32671</td>\n",
       "      <td>undetermined_parking</td>\n",
       "      <td>19</td>\n",
       "      <td>solar</td>\n",
       "      <td>55.0</td>\n",
       "      <td>5.0</td>\n",
       "      <td></td>\n",
       "      <td>9</td>\n",
       "      <td>2021-01-04T12:00:00Z</td>\n",
       "    </tr>\n",
       "    <tr>\n",
       "      <th>97</th>\n",
       "      <td>3797</td>\n",
       "      <td>21st &amp; University</td>\n",
       "      <td>active</td>\n",
       "      <td>2007 University Ave.</td>\n",
       "      <td></td>\n",
       "      <td>32674</td>\n",
       "      <td>undetermined_parking</td>\n",
       "      <td>19</td>\n",
       "      <td>solar</td>\n",
       "      <td>55.0</td>\n",
       "      <td>5.0</td>\n",
       "      <td>ROW might belong to UT</td>\n",
       "      <td>9</td>\n",
       "      <td>2021-01-04T12:00:00Z</td>\n",
       "    </tr>\n",
       "  </tbody>\n",
       "</table>\n",
       "<p>98 rows × 14 columns</p>\n",
       "</div>"
      ],
      "text/plain": [
       "    station_id                                      name  status  \\\n",
       "0         2500                           Republic Square  closed   \n",
       "1         2546                  ACC - West & 12th Street  closed   \n",
       "2         2712                   Toomey Rd @ South Lamar  closed   \n",
       "3         1004                   Red River & LBJ Library  closed   \n",
       "4         2575                      Riverside @ S. Lamar  active   \n",
       "..         ...                                       ...     ...   \n",
       "93        4048            South Congress @ Bouldin Creek  active   \n",
       "94        3377  MoPac Pedestrian Bridge @ Veterans Drive  active   \n",
       "95        3794                    Dean Keeton & Speedway  active   \n",
       "96        3795                      Dean Keeton & Whitis  active   \n",
       "97        3797                         21st & University  active   \n",
       "\n",
       "                                 address alternate_name city_asset_number  \\\n",
       "0                       425 W 4th Street                                    \n",
       "1                         1231 West Ave.                                    \n",
       "2                       1301 Toomey Road                                    \n",
       "3                  2322 Red River Street                                    \n",
       "4   Presented by Austin Parks Foundation                            16736   \n",
       "..                                   ...            ...               ...   \n",
       "93             799 South Congress Avenue                            32746   \n",
       "94                     2105 Veterans Dr.                            16598   \n",
       "95                180 E. Dean Keeton St.                            32670   \n",
       "96                300 W. Dean Keeton St.                            32671   \n",
       "97                  2007 University Ave.                            32674   \n",
       "\n",
       "           property_type number_of_docks power_type footprint_length  \\\n",
       "0                                                                      \n",
       "1                                                                      \n",
       "2                                                                      \n",
       "3                                                                      \n",
       "4               parkland              15      solar             45.0   \n",
       "..                   ...             ...        ...              ...   \n",
       "93  undetermined_parking              13      solar             40.0   \n",
       "94  undetermined_parking              19      solar             55.0   \n",
       "95  undetermined_parking              19      solar             55.0   \n",
       "96  undetermined_parking              19      solar             55.0   \n",
       "97  undetermined_parking              19      solar             55.0   \n",
       "\n",
       "   footprint_width                     notes  council_district  \\\n",
       "0                                                            9   \n",
       "1                                                            9   \n",
       "2                                                            5   \n",
       "3                                                            1   \n",
       "4              5.0  parkland at ROW/easement                 5   \n",
       "..             ...                       ...               ...   \n",
       "93             5.0                                           9   \n",
       "94             5.0  parkland in ROW/eastment                 9   \n",
       "95             5.0                                           9   \n",
       "96             5.0                                           9   \n",
       "97             5.0    ROW might belong to UT                 9   \n",
       "\n",
       "           modified_date  \n",
       "0   2021-01-04T12:00:00Z  \n",
       "1   2021-01-04T12:00:00Z  \n",
       "2   2021-01-04T12:00:00Z  \n",
       "3   2021-01-04T12:00:00Z  \n",
       "4   2021-01-04T12:00:00Z  \n",
       "..                   ...  \n",
       "93  2021-01-04T12:00:00Z  \n",
       "94  2021-01-04T12:00:00Z  \n",
       "95  2021-01-04T12:00:00Z  \n",
       "96  2021-01-04T12:00:00Z  \n",
       "97  2021-01-04T12:00:00Z  \n",
       "\n",
       "[98 rows x 14 columns]"
      ]
     },
     "execution_count": 22,
     "metadata": {},
     "output_type": "execute_result"
    }
   ],
   "source": [
    "pd.DataFrame(res.json())#.head()"
   ]
  },
  {
   "cell_type": "markdown",
   "id": "adbd0b76-5fa5-4b0e-acfa-85774528130f",
   "metadata": {},
   "source": [
    "## Static and Dynamic Endpoints"
   ]
  },
  {
   "cell_type": "markdown",
   "id": "479eec15-63e3-421a-8227-0d46b6a7349c",
   "metadata": {},
   "source": [
    "On previous part we already made several endpoints which control how our server will react whenever users access it. \n",
    "If we take a look at the endpoints, it's all static : \n",
    "- `@app.route('/')`\n",
    "- `@app.route('/home/')`\n",
    "- `@app.route('/stations/')`\n",
    "- `@app.route('/trips/')`\n",
    "\n",
    "\n",
    "What if, instead of getting all the stations information, we only wanted to read a specific station information of station_id 3464 ? \\\n",
    "should we make an excact endpoint of that like `@app.route('stations/3464')`?. But what about the others? are we going to make a bunch of endpoints for each specific id like: \n",
    "- `@app.route('/stations/3464')`\n",
    "- `@app.route('/stations/2500')`\n",
    "- `@app.route('/stations/2541')`\n",
    "- and so on...\n",
    "\n",
    "Of course we shouldn't. One way to overcome the problem is by delcaring a **dynamic endpoints**. Basically, it's an endpoint which allows user to insert a variable values in it. The final looks of the dynamic endpoint version of above problem is: \n",
    "- `@app.route('stations/<station_id>')`\n",
    "\n",
    "From above endpoint, the \\<station_id\\> is the variable, and we need to make sure that it influence how our following function acts. The whole dynamic endpoints for getting specific station by its id will looks like: \n",
    "\n",
    "```python \n",
    "@app.route('/stations/<station_id>')\n",
    "def route_stations_id(station_id):\n",
    "    conn = make_connection()\n",
    "    station = get_station_id(station_id, conn)\n",
    "    return station.to_json()\n",
    "```\n"
   ]
  },
  {
   "cell_type": "markdown",
   "id": "4a91fb67-4645-4097-b266-e1c8f77c8b5d",
   "metadata": {},
   "source": [
    "Before accesing the endpoint, make sure that `make_connection()` and `get_station_id()` functions are included inside `app.py` script so that it won't raise an error. Now for the final step, we can try to access the dynamic endpoints by changing the `station_id` in the following codes"
   ]
  },
  {
   "cell_type": "code",
   "execution_count": null,
   "id": "3d97afd6-6673-46c2-9ea8-6920dca5eba4",
   "metadata": {},
   "outputs": [],
   "source": [
    "station_id = 2712\n",
    "url = f\"http://127.0.0.1:5001/stations/{station_id}\""
   ]
  },
  {
   "cell_type": "code",
   "execution_count": null,
   "id": "636b0d84",
   "metadata": {},
   "outputs": [],
   "source": [
    "url"
   ]
  },
  {
   "cell_type": "code",
   "execution_count": null,
   "id": "c948b850-fd61-4e3c-9b54-45c8741c3d21",
   "metadata": {},
   "outputs": [],
   "source": [
    "response = requests.get(url)\n",
    "pd.DataFrame(response.json())"
   ]
  },
  {
   "cell_type": "markdown",
   "id": "7c5ca64f-b5ae-4fe3-890f-71419a69bfa3",
   "metadata": {},
   "source": [
    "**TASK: Implement dynamic endpoints to read specific trip by its trip_id!** \\\n",
    "Place it under `@app.route('/trips/<trip_id>')` endpoint"
   ]
  },
  {
   "cell_type": "code",
   "execution_count": null,
   "id": "4236f37f",
   "metadata": {},
   "outputs": [],
   "source": [
    "trip_id = 23386724\n",
    "url = f\"http://127.0.0.1:5001/trips/{trip_id}\""
   ]
  },
  {
   "cell_type": "code",
   "execution_count": null,
   "id": "a8b9e8c0",
   "metadata": {},
   "outputs": [],
   "source": [
    "url"
   ]
  },
  {
   "cell_type": "code",
   "execution_count": null,
   "id": "63186848",
   "metadata": {},
   "outputs": [],
   "source": [
    "response = requests.get(url)\n",
    "pd.DataFrame(response.json())"
   ]
  },
  {
   "cell_type": "markdown",
   "id": "68f377bd",
   "metadata": {},
   "source": [
    "```python\n",
    "@app.route('/trips/')\n",
    "def route_all_trips():\n",
    "    conn = make_connection()\n",
    "    trips = get_all_trips(conn)\n",
    "    return trips.to_json()\n",
    "\n",
    "@app.route('/trips/<trip_id>')\n",
    "def route_trip_id(trip_id):\n",
    "    conn = make_connection()\n",
    "    trips = get_trip_id(trip_id, conn)\n",
    "    return trips.to_json()\n",
    "\n",
    "\n",
    "def get_all_trips(conn):\n",
    "    query = f\"\"\"SELECT * FROM trips\"\"\"\n",
    "    result = pd.read_sql_query(query,conn)\n",
    "    return result\n",
    "\n",
    "def get_trip_id(trip_id, conn):\n",
    "    query = f\"\"\"SELECT * FROM trips WHERE id = {trip_id}\"\"\"\n",
    "    result=pd.read_sql_query(query,conn)\n",
    "    return result\n",
    "```"
   ]
  },
  {
   "cell_type": "markdown",
   "id": "52ec2ce8-6950-4c20-9bdb-38e35311d26a",
   "metadata": {},
   "source": [
    "## Handling JSON data as input"
   ]
  },
  {
   "cell_type": "markdown",
   "id": "d694cb3a-c753-4aeb-880f-458236146532",
   "metadata": {},
   "source": [
    "Sometimes, in order to make something happens in our API, we need the user to send us the data. In this case, we need to handle how we can get the data (which mostly sent as json format) and utilize it inside our endpoint functions. \n",
    "\n",
    "In order to achieve that, we will be using flask's `request` classes.\n",
    "\n",
    "\n",
    "```python\n",
    "@app.route('/json') \n",
    "def json_example():\n",
    "    \n",
    "    req = request.get_json(force=True) # Parse the incoming json data as Dictionary\n",
    "    \n",
    "    name = req['name']\n",
    "    age = req['age']\n",
    "    address = req['address']\n",
    "    \n",
    "    return (f'''Hello {name}, your age is {age}, and your address in {address}\n",
    "            ''')\n",
    "```"
   ]
  },
  {
   "cell_type": "code",
   "execution_count": 40,
   "id": "33519e1a-3cd1-4abc-9a20-c2d981fad894",
   "metadata": {},
   "outputs": [],
   "source": [
    "data = {\n",
    "    \"name\" : \"Andi\", \n",
    "    \"age\" : 24,\n",
    "    \"address\" : \"my adress\"\n",
    "}\n",
    "\n",
    "url = \"http://127.0.0.1:5001/json\""
   ]
  },
  {
   "cell_type": "code",
   "execution_count": 41,
   "id": "9b66724f-6439-4aec-a8b5-48b4a781521b",
   "metadata": {},
   "outputs": [],
   "source": [
    "res = requests.post(url, json=data)"
   ]
  },
  {
   "cell_type": "code",
   "execution_count": 42,
   "id": "3e0f21c9-402a-4b12-bcc7-4c4534f23e5c",
   "metadata": {},
   "outputs": [
    {
     "data": {
      "text/plain": [
       "<Response [200]>"
      ]
     },
     "execution_count": 42,
     "metadata": {},
     "output_type": "execute_result"
    }
   ],
   "source": [
    "res"
   ]
  },
  {
   "cell_type": "code",
   "execution_count": 43,
   "id": "59d76173-58d9-4e38-a50d-a1ac72c3519f",
   "metadata": {},
   "outputs": [
    {
     "data": {
      "text/plain": [
       "'Hello Andi, your age is 24, and your address in my adress\\n            '"
      ]
     },
     "execution_count": 43,
     "metadata": {},
     "output_type": "execute_result"
    }
   ],
   "source": [
    "res.text"
   ]
  },
  {
   "cell_type": "markdown",
   "id": "188e3467-bff8-4919-bc90-a86cb8c4eaff",
   "metadata": {},
   "source": [
    "Now that we already know how to handle json input, we can try to implement and endpoint in which we can insert new data into `stations` table. "
   ]
  },
  {
   "cell_type": "markdown",
   "id": "1729b881-beac-48ef-bc19-01cda9a6d77a",
   "metadata": {},
   "source": [
    "```python\n",
    "\n",
    "@app.route('/stations/add', methods=['POST']) \n",
    "def route_add_station():\n",
    "    # parse and transform incoming data into a tuple as we need \n",
    "    data = pd.Series(eval(request.get_json(force=True)))\n",
    "    data = tuple(data.fillna('').values)\n",
    "    \n",
    "    conn = make_connection()\n",
    "    result = insert_into_stations(data, conn)\n",
    "    return result\n",
    "\n",
    "\n",
    "```"
   ]
  },
  {
   "cell_type": "code",
   "execution_count": 23,
   "id": "00348fc5-105b-41c7-a5e6-e69e1c19b4fa",
   "metadata": {},
   "outputs": [],
   "source": [
    "class NpEncoder(json.JSONEncoder):\n",
    "    def default(self, obj):\n",
    "        if isinstance(obj, np.integer):\n",
    "            return int(obj)\n",
    "        if isinstance(obj, np.floating):\n",
    "            return float(obj)\n",
    "        if isinstance(obj, np.ndarray):\n",
    "            return obj.tolist()\n",
    "        return super(NpEncoder, self).default(obj)"
   ]
  },
  {
   "cell_type": "code",
   "execution_count": 24,
   "id": "12746054-6c95-4a95-a6a0-37a2dc24c347",
   "metadata": {},
   "outputs": [],
   "source": [
    "data = stations.iloc[20].fillna('').to_dict()\n",
    "data_json = json.dumps(data, cls=NpEncoder)"
   ]
  },
  {
   "cell_type": "code",
   "execution_count": 25,
   "id": "2ec316a9",
   "metadata": {},
   "outputs": [
    {
     "data": {
      "text/plain": [
       "'{\"station_id\": 2502, \"name\": \"Barton Springs & Riverside\", \"status\": \"closed\", \"address\": \"400 Barton Springs Rd.\", \"alternate_name\": \"\", \"city_asset_number\": \"\", \"property_type\": \" \", \"number_of_docks\": \"\", \"power_type\": \" \", \"footprint_length\": \"\", \"footprint_width\": \"\", \"notes\": \"moved to Pedernales/2nd. Original city ID: 16729\", \"council_district\": 9, \"modified_date\": \"2021-01-04T12:00:00Z\"}'"
      ]
     },
     "execution_count": 25,
     "metadata": {},
     "output_type": "execute_result"
    }
   ],
   "source": [
    "data_json"
   ]
  },
  {
   "cell_type": "code",
   "execution_count": 26,
   "id": "b9eef315-96d2-46e3-b5ab-07d34e299629",
   "metadata": {},
   "outputs": [],
   "source": [
    "url = \"http://127.0.0.1:5001/stations/add\"\n",
    "res = requests.post(url, json=data_json)"
   ]
  },
  {
   "cell_type": "code",
   "execution_count": 27,
   "id": "fa80e62f-75c4-47f5-a0fb-3eaa08200b66",
   "metadata": {},
   "outputs": [
    {
     "data": {
      "text/plain": [
       "<Response [200]>"
      ]
     },
     "execution_count": 27,
     "metadata": {},
     "output_type": "execute_result"
    }
   ],
   "source": [
    "res"
   ]
  },
  {
   "cell_type": "code",
   "execution_count": 28,
   "id": "8996edb2",
   "metadata": {},
   "outputs": [
    {
     "data": {
      "text/plain": [
       "'Error'"
      ]
     },
     "execution_count": 28,
     "metadata": {},
     "output_type": "execute_result"
    }
   ],
   "source": [
    "res.text"
   ]
  },
  {
   "cell_type": "code",
   "execution_count": 29,
   "id": "7a0d3ece-e370-4861-9c03-31361c394c01",
   "metadata": {},
   "outputs": [
    {
     "name": "stderr",
     "output_type": "stream",
     "text": [
      "98it [00:01, 50.83it/s]\n"
     ]
    }
   ],
   "source": [
    "# Sintaks for iteratively insert stations (from stations_csv) into stations table\n",
    "\n",
    "for idx, data in tqdm(stations.iterrows()):\n",
    "    data = data.fillna('').to_dict()\n",
    "    data_json = json.dumps(data, cls=NpEncoder)\n",
    "    \n",
    "    url = \"http://127.0.0.1:5001/stations/add\"\n",
    "    res = requests.post(url, json=data_json)"
   ]
  },
  {
   "cell_type": "markdown",
   "id": "f7d0f146-9af5-4873-816e-d7a1990d0d2e",
   "metadata": {},
   "source": [
    "**TASK: Using the API, insert all the trips data (in csv) into the database by running the following codes**\\\n",
    "It might run differently on each devices, so you might get some rest while waiting for it to complete"
   ]
  },
  {
   "cell_type": "markdown",
   "id": "5563e30d",
   "metadata": {},
   "source": [
    "trips.shape\n",
    "#lakukan check start_time tahun 2021\n",
    "```sql\n",
    "\n",
    "SELECT * from trips\n",
    "WHERE start_time like '2021%'\n",
    "```"
   ]
  },
  {
   "cell_type": "code",
   "execution_count": null,
   "id": "f943160a-230d-4548-8685-25c17d8f0641",
   "metadata": {},
   "outputs": [],
   "source": [
    "for idx, data in tqdm(trips.iterrows()):\n",
    "    data = data.fillna('').to_dict()\n",
    "    data_json = json.dumps(data, cls=NpEncoder)\n",
    "    \n",
    "    url = \"http://127.0.0.1:5001/trips/add\"\n",
    "    res = requests.post(url, json=data_json)"
   ]
  },
  {
   "cell_type": "code",
   "execution_count": null,
   "id": "7f4adf19",
   "metadata": {},
   "outputs": [],
   "source": [
    "res"
   ]
  },
  {
   "cell_type": "markdown",
   "id": "e9ca0d0f-f38d-4ce2-b7e2-961452ab315e",
   "metadata": {},
   "source": [
    "# Make your own analytic endpoints"
   ]
  },
  {
   "cell_type": "markdown",
   "id": "7a8500f2-9e2f-4515-8ce1-ce4a581132b5",
   "metadata": {},
   "source": [
    "Based on what we've learned before, create your own endpoints which returns analytical result such as contigency tables, aggregation tables, or even just a values.\n",
    "\n",
    "*ps: if the return is dataframe/series, don't forget to change it into json with `.to_json()` method*"
   ]
  },
  {
   "cell_type": "markdown",
   "id": "ce22ac68-1a8d-4030-9a9a-1764a074dde5",
   "metadata": {},
   "source": [
    "\n",
    "- [x] 1 point - Created Flask App\n",
    "- [x] 4 points - Created functionality to input new data into each table for the databases\n",
    "- [x] 2 poitns - Created functionality to read or get specific data from the database\n",
    "- [X] 3 points - Created static endpoints which return analytical result (must be different from point 2,3)\n",
    "- [X] 3 points - Created dynamic endpoints which return analytical result (must be different from point 2,3,4)\n",
    "- [X] 3 points - Created POST endpoint which receive input data, then utilize it to get analytical result (must be different from point 2,3,4,5)\n"
   ]
  },
  {
   "cell_type": "markdown",
   "id": "9349b196-e43e-4bbc-8d71-75c2f957d9af",
   "metadata": {},
   "source": [
    "## Create Static Endpoint(s)"
   ]
  },
  {
   "cell_type": "markdown",
   "id": "0ba0e764-89a5-4189-a24a-837c8fbf304c",
   "metadata": {},
   "source": [
    "You can use the following cell to try-out your function before implementing it as an endpoint"
   ]
  },
  {
   "cell_type": "markdown",
   "id": "2846bf7b",
   "metadata": {},
   "source": [
    "# Your Code Here\n",
    "```python\n",
    "@app.route('/trips/average_duration') \n",
    "def route_trips_average():\n",
    "# Subset the data with query \n",
    "conn = make_connection()\n",
    "query = f\"SELECT * FROM trips\"\n",
    "selected_data = pd.read_sql_query(query, conn)\n",
    "\n",
    "# Make the aggregate\n",
    "result = selected_data.groupby('subscriber_type').agg({\n",
    "    'duration_minutes' : 'mean'\n",
    "})\n",
    "\n",
    "# Return the result\n",
    "return result.to_json()\n",
    "```"
   ]
  },
  {
   "cell_type": "code",
   "execution_count": 13,
   "id": "24366ba7",
   "metadata": {},
   "outputs": [
    {
     "data": {
      "text/html": [
       "<div>\n",
       "<style scoped>\n",
       "    .dataframe tbody tr th:only-of-type {\n",
       "        vertical-align: middle;\n",
       "    }\n",
       "\n",
       "    .dataframe tbody tr th {\n",
       "        vertical-align: top;\n",
       "    }\n",
       "\n",
       "    .dataframe thead th {\n",
       "        text-align: right;\n",
       "    }\n",
       "</style>\n",
       "<table border=\"1\" class=\"dataframe\">\n",
       "  <thead>\n",
       "    <tr style=\"text-align: right;\">\n",
       "      <th></th>\n",
       "      <th>trip_id</th>\n",
       "      <th>subscriber_type</th>\n",
       "      <th>bikeid</th>\n",
       "      <th>start_time</th>\n",
       "      <th>start_station_id</th>\n",
       "      <th>start_station_name</th>\n",
       "      <th>end_station_id</th>\n",
       "      <th>end_station_name</th>\n",
       "      <th>duration_minutes</th>\n",
       "    </tr>\n",
       "  </thead>\n",
       "  <tbody>\n",
       "    <tr>\n",
       "      <th>0</th>\n",
       "      <td>23455589</td>\n",
       "      <td>Local365</td>\n",
       "      <td>174</td>\n",
       "      <td>2021-01-26 17:47:42 UTC</td>\n",
       "      <td>4059.0</td>\n",
       "      <td>Nash Hernandez/East @ RBJ South</td>\n",
       "      <td>3660.0</td>\n",
       "      <td>East 6th/Medina</td>\n",
       "      <td>7</td>\n",
       "    </tr>\n",
       "    <tr>\n",
       "      <th>1</th>\n",
       "      <td>23459960</td>\n",
       "      <td>Local365</td>\n",
       "      <td>19265</td>\n",
       "      <td>2021-01-28 08:03:52 UTC</td>\n",
       "      <td>4054.0</td>\n",
       "      <td>Rosewood/Chicon</td>\n",
       "      <td>4055.0</td>\n",
       "      <td>11th/Salina</td>\n",
       "      <td>16</td>\n",
       "    </tr>\n",
       "    <tr>\n",
       "      <th>2</th>\n",
       "      <td>23436548</td>\n",
       "      <td>Local365</td>\n",
       "      <td>18331</td>\n",
       "      <td>2021-01-21 07:09:48 UTC</td>\n",
       "      <td>4055.0</td>\n",
       "      <td>11th/Salina</td>\n",
       "      <td>4055.0</td>\n",
       "      <td>11th/Salina</td>\n",
       "      <td>25</td>\n",
       "    </tr>\n",
       "    <tr>\n",
       "      <th>3</th>\n",
       "      <td>23382542</td>\n",
       "      <td>Local365</td>\n",
       "      <td>19682</td>\n",
       "      <td>2021-01-04 09:38:18 UTC</td>\n",
       "      <td>4062.0</td>\n",
       "      <td>Lakeshore/Pleasant Valley</td>\n",
       "      <td>3293.0</td>\n",
       "      <td>East 2nd/Pedernales</td>\n",
       "      <td>5</td>\n",
       "    </tr>\n",
       "    <tr>\n",
       "      <th>4</th>\n",
       "      <td>23374882</td>\n",
       "      <td>Local365</td>\n",
       "      <td>19437</td>\n",
       "      <td>2021-01-02 15:04:01 UTC</td>\n",
       "      <td>3293.0</td>\n",
       "      <td>East 2nd/Pedernales</td>\n",
       "      <td>4062.0</td>\n",
       "      <td>Lakeshore/Pleasant Valley</td>\n",
       "      <td>5</td>\n",
       "    </tr>\n",
       "  </tbody>\n",
       "</table>\n",
       "</div>"
      ],
      "text/plain": [
       "    trip_id subscriber_type bikeid               start_time  start_station_id  \\\n",
       "0  23455589        Local365    174  2021-01-26 17:47:42 UTC            4059.0   \n",
       "1  23459960        Local365  19265  2021-01-28 08:03:52 UTC            4054.0   \n",
       "2  23436548        Local365  18331  2021-01-21 07:09:48 UTC            4055.0   \n",
       "3  23382542        Local365  19682  2021-01-04 09:38:18 UTC            4062.0   \n",
       "4  23374882        Local365  19437  2021-01-02 15:04:01 UTC            3293.0   \n",
       "\n",
       "                start_station_name  end_station_id           end_station_name  \\\n",
       "0  Nash Hernandez/East @ RBJ South          3660.0            East 6th/Medina   \n",
       "1                  Rosewood/Chicon          4055.0               11th/Salina    \n",
       "2                     11th/Salina           4055.0               11th/Salina    \n",
       "3        Lakeshore/Pleasant Valley          3293.0        East 2nd/Pedernales   \n",
       "4              East 2nd/Pedernales          4062.0  Lakeshore/Pleasant Valley   \n",
       "\n",
       "   duration_minutes  \n",
       "0                 7  \n",
       "1                16  \n",
       "2                25  \n",
       "3                 5  \n",
       "4                 5  "
      ]
     },
     "execution_count": 13,
     "metadata": {},
     "output_type": "execute_result"
    }
   ],
   "source": [
    "trips.head()"
   ]
  },
  {
   "cell_type": "code",
   "execution_count": 14,
   "id": "ed266d46",
   "metadata": {},
   "outputs": [
    {
     "data": {
      "text/html": [
       "<div>\n",
       "<style scoped>\n",
       "    .dataframe tbody tr th:only-of-type {\n",
       "        vertical-align: middle;\n",
       "    }\n",
       "\n",
       "    .dataframe tbody tr th {\n",
       "        vertical-align: top;\n",
       "    }\n",
       "\n",
       "    .dataframe thead th {\n",
       "        text-align: right;\n",
       "    }\n",
       "</style>\n",
       "<table border=\"1\" class=\"dataframe\">\n",
       "  <thead>\n",
       "    <tr style=\"text-align: right;\">\n",
       "      <th></th>\n",
       "      <th>duration_minutes</th>\n",
       "    </tr>\n",
       "  </thead>\n",
       "  <tbody>\n",
       "    <tr>\n",
       "      <th>24 Hour Walk Up Pass</th>\n",
       "      <td>56.969751</td>\n",
       "    </tr>\n",
       "    <tr>\n",
       "      <th>3-Day Weekender</th>\n",
       "      <td>34.561457</td>\n",
       "    </tr>\n",
       "    <tr>\n",
       "      <th>Annual</th>\n",
       "      <td>25.000000</td>\n",
       "    </tr>\n",
       "    <tr>\n",
       "      <th>Annual Membership</th>\n",
       "      <td>23.600000</td>\n",
       "    </tr>\n",
       "    <tr>\n",
       "      <th>Explorer</th>\n",
       "      <td>42.304988</td>\n",
       "    </tr>\n",
       "    <tr>\n",
       "      <th>Local31</th>\n",
       "      <td>31.607951</td>\n",
       "    </tr>\n",
       "    <tr>\n",
       "      <th>Local365</th>\n",
       "      <td>26.444218</td>\n",
       "    </tr>\n",
       "    <tr>\n",
       "      <th>Local365+Guest Pass</th>\n",
       "      <td>11.280000</td>\n",
       "    </tr>\n",
       "    <tr>\n",
       "      <th>Pay-as-you-ride</th>\n",
       "      <td>47.309142</td>\n",
       "    </tr>\n",
       "    <tr>\n",
       "      <th>Single Trip (Pay-as-you-ride)</th>\n",
       "      <td>71.362438</td>\n",
       "    </tr>\n",
       "    <tr>\n",
       "      <th>U.T. Student Membership</th>\n",
       "      <td>24.844828</td>\n",
       "    </tr>\n",
       "  </tbody>\n",
       "</table>\n",
       "</div>"
      ],
      "text/plain": [
       "                               duration_minutes\n",
       "24 Hour Walk Up Pass                  56.969751\n",
       "3-Day Weekender                       34.561457\n",
       "Annual                                25.000000\n",
       "Annual Membership                     23.600000\n",
       "Explorer                              42.304988\n",
       "Local31                               31.607951\n",
       "Local365                              26.444218\n",
       "Local365+Guest Pass                   11.280000\n",
       "Pay-as-you-ride                       47.309142\n",
       "Single Trip (Pay-as-you-ride)         71.362438\n",
       "U.T. Student Membership               24.844828"
      ]
     },
     "execution_count": 14,
     "metadata": {},
     "output_type": "execute_result"
    }
   ],
   "source": [
    "test_url = \"http://127.0.0.1:5001/trips/average_duration\"\n",
    "res = requests.get(test_url)\n",
    "analisa_avgdur = pd.DataFrame(res.json())\n",
    "analisa_avgdur"
   ]
  },
  {
   "cell_type": "code",
   "execution_count": 15,
   "id": "ccdf3a35",
   "metadata": {},
   "outputs": [
    {
     "data": {
      "text/plain": [
       "<AxesSubplot: >"
      ]
     },
     "execution_count": 15,
     "metadata": {},
     "output_type": "execute_result"
    },
    {
     "data": {
      "image/png": "[encoded data removed]",
      "text/plain": [
       "<Figure size 640x480 with 1 Axes>"
      ]
     },
     "metadata": {},
     "output_type": "display_data"
    }
   ],
   "source": [
    "import matplotlib\n",
    "analisa_avgdur.sort_values(by='duration_minutes',ascending = True).plot.barh()"
   ]
  },
  {
   "cell_type": "markdown",
   "id": "c8f9c02a",
   "metadata": {},
   "source": [
    "**Insight :** \n",
    "1. Customer Bike APP dengan tipe subs 'single trip (pay-as-you-ride)' memiliki rata rata tertinggi yaitu selama 70 menit lama waktu pemakaian bike diikuti dengan tipe subs 24 Hour Up Pass dengan rata rata 60 menit, hal ini perlu divalidasi jumlah user pada subs tersebut untuk melihat tren pengguna dalam aplikasi bike\n",
    "2. Local365 dan Guest Pass memiliki rata rata paling kecil yaitu selama 10 menit, perlu divalidasi bersma jumlah user agar mengetahui engagement dan langkah yang perlu diambil untuk meningkatkan penggunaan selanjutnya pada tipe subs tersebut"
   ]
  },
  {
   "cell_type": "markdown",
   "id": "3f1c8d87-b066-48dc-b9db-2339aa3693db",
   "metadata": {},
   "source": [
    "## Create Dynamic Endpoints "
   ]
  },
  {
   "cell_type": "markdown",
   "id": "46eecec9-49c8-4c02-835a-cb4a813c41ad",
   "metadata": {},
   "source": [
    "You can use the following cell to try-out your function before implementing it as an endpoint"
   ]
  },
  {
   "cell_type": "markdown",
   "id": "e236cee0",
   "metadata": {},
   "source": [
    "# Your Code Here\n",
    "```python\n",
    "@app.route('/trips/average_duration/<bike_id>') \n",
    "def route_trips_average_bike_id(bike_id):\n",
    "# Subset the data with query \n",
    "conn = make_connection()\n",
    "query = f\"SELECT * FROM trips WHERE bikeid = {bike_id}\"\n",
    "selected_data = pd.read_sql_query(query, conn)\n",
    "\n",
    "# Make the aggregate\n",
    "result = selected_data.groupby('subscriber_type').agg({\n",
    "    'duration_minutes' : 'mean'\n",
    "})\n",
    "\n",
    "# Return the result\n",
    "return result.to_json()\n",
    "```"
   ]
  },
  {
   "cell_type": "code",
   "execution_count": 17,
   "id": "8b4711d7",
   "metadata": {},
   "outputs": [
    {
     "data": {
      "text/html": [
       "<div>\n",
       "<style scoped>\n",
       "    .dataframe tbody tr th:only-of-type {\n",
       "        vertical-align: middle;\n",
       "    }\n",
       "\n",
       "    .dataframe tbody tr th {\n",
       "        vertical-align: top;\n",
       "    }\n",
       "\n",
       "    .dataframe thead th {\n",
       "        text-align: right;\n",
       "    }\n",
       "</style>\n",
       "<table border=\"1\" class=\"dataframe\">\n",
       "  <thead>\n",
       "    <tr style=\"text-align: right;\">\n",
       "      <th></th>\n",
       "      <th>duration_minutes</th>\n",
       "    </tr>\n",
       "  </thead>\n",
       "  <tbody>\n",
       "    <tr>\n",
       "      <th>24 Hour Walk Up Pass</th>\n",
       "      <td>24.400000</td>\n",
       "    </tr>\n",
       "    <tr>\n",
       "      <th>3-Day Weekender</th>\n",
       "      <td>13.000000</td>\n",
       "    </tr>\n",
       "    <tr>\n",
       "      <th>Explorer</th>\n",
       "      <td>57.333333</td>\n",
       "    </tr>\n",
       "    <tr>\n",
       "      <th>Local31</th>\n",
       "      <td>81.681818</td>\n",
       "    </tr>\n",
       "    <tr>\n",
       "      <th>Local365</th>\n",
       "      <td>41.523810</td>\n",
       "    </tr>\n",
       "    <tr>\n",
       "      <th>Pay-as-you-ride</th>\n",
       "      <td>36.416667</td>\n",
       "    </tr>\n",
       "    <tr>\n",
       "      <th>Single Trip (Pay-as-you-ride)</th>\n",
       "      <td>54.666667</td>\n",
       "    </tr>\n",
       "    <tr>\n",
       "      <th>U.T. Student Membership</th>\n",
       "      <td>4.000000</td>\n",
       "    </tr>\n",
       "  </tbody>\n",
       "</table>\n",
       "</div>"
      ],
      "text/plain": [
       "                               duration_minutes\n",
       "24 Hour Walk Up Pass                  24.400000\n",
       "3-Day Weekender                       13.000000\n",
       "Explorer                              57.333333\n",
       "Local31                               81.681818\n",
       "Local365                              41.523810\n",
       "Pay-as-you-ride                       36.416667\n",
       "Single Trip (Pay-as-you-ride)         54.666667\n",
       "U.T. Student Membership                4.000000"
      ]
     },
     "execution_count": 17,
     "metadata": {},
     "output_type": "execute_result"
    }
   ],
   "source": [
    "test_url = \"http://127.0.0.1:5001/trips/average_duration/19199\"\n",
    "res = requests.get(test_url)\n",
    "analisa_avgdur_bikeid = pd.DataFrame(res.json())\n",
    "analisa_avgdur_bikeid"
   ]
  },
  {
   "cell_type": "code",
   "execution_count": 18,
   "id": "b0612550",
   "metadata": {},
   "outputs": [
    {
     "data": {
      "text/plain": [
       "<AxesSubplot: >"
      ]
     },
     "execution_count": 18,
     "metadata": {},
     "output_type": "execute_result"
    },
    {
     "data": {
      "image/png": "[encoded data removed]",
      "text/plain": [
       "<Figure size 640x480 with 1 Axes>"
      ]
     },
     "metadata": {},
     "output_type": "display_data"
    }
   ],
   "source": [
    "analisa_avgdur_bikeid.sort_values(by='duration_minutes',ascending = True).plot.barh()"
   ]
  },
  {
   "cell_type": "markdown",
   "id": "712aeb14-8f96-4df5-a2eb-5a42e083dddc",
   "metadata": {},
   "source": [
    "## Create POST Endpoints"
   ]
  },
  {
   "cell_type": "markdown",
   "id": "d518c6a2-6fc7-4eb0-91a7-c7ba25db5bce",
   "metadata": {},
   "source": [
    "You can use the following cell to try-out your function before implementing it as an endpoint.\n",
    "\n",
    "If you still find it quite difficult, here's an example case you might wanted to try on:\n",
    "- input : a dictionary contained a datetime period\n",
    "    - { \"period\" : \"2015-08\" }\n",
    "- output:\n",
    "    - Aggregation table of bike rent activities for each station in that specific period\n",
    "- example code: \n",
    "\n",
    "```python \n",
    "input_data = request.get_json() # Get the input as dictionary\n",
    "specified_date = input_data['period'] # Select specific items (period) from the dictionary (the value will be \"2015-08\")\n",
    "\n",
    "# Subset the data with query \n",
    "conn = make_connection()\n",
    "query = f\"SELECT * FROM stations WHERE start_time LIKE ({specified_date}%)\"\n",
    "selected_data = pd.read_sql_query(query, conn)\n",
    "\n",
    "# Make the aggregate\n",
    "result = selected_data.groupby('start_station_id').agg({\n",
    "    'bikeid' : 'count', \n",
    "    'duration_minutes' : 'mean'\n",
    "})\n",
    "\n",
    "# Return the result\n",
    "return result.to_json()\n",
    "\n",
    "```"
   ]
  },
  {
   "cell_type": "markdown",
   "id": "d6fdd99b",
   "metadata": {},
   "source": [
    "# Your Code Here\n",
    "```python\n",
    "@app.route('/trips/<period>') \n",
    "def route_stations_period(period):\n",
    "# Subset the data with query \n",
    "conn = make_connection()\n",
    "query = f\"SELECT * FROM trips WHERE start_time LIKE('{period}%')\"\n",
    "selected_data = pd.read_sql_query(query, conn)\n",
    "\n",
    "# Make the aggregate\n",
    "result = selected_data.groupby('start_station_id').agg({\n",
    "    'bikeid' : 'count',\n",
    "    'duration_minutes' : 'mean'\n",
    "})\n",
    "\n",
    "# Return the result\n",
    "return result.to_json()\n",
    "```"
   ]
  },
  {
   "cell_type": "code",
   "execution_count": 86,
   "id": "879a5003",
   "metadata": {},
   "outputs": [
    {
     "data": {
      "text/html": [
       "<div>\n",
       "<style scoped>\n",
       "    .dataframe tbody tr th:only-of-type {\n",
       "        vertical-align: middle;\n",
       "    }\n",
       "\n",
       "    .dataframe tbody tr th {\n",
       "        vertical-align: top;\n",
       "    }\n",
       "\n",
       "    .dataframe thead th {\n",
       "        text-align: right;\n",
       "    }\n",
       "</style>\n",
       "<table border=\"1\" class=\"dataframe\">\n",
       "  <thead>\n",
       "    <tr style=\"text-align: right;\">\n",
       "      <th></th>\n",
       "      <th>id</th>\n",
       "      <th>subscriber_type</th>\n",
       "      <th>bikeid</th>\n",
       "      <th>start_time</th>\n",
       "      <th>start_station_id</th>\n",
       "      <th>start_station_name</th>\n",
       "      <th>end_station_id</th>\n",
       "      <th>end_station_name</th>\n",
       "      <th>duration_minutes</th>\n",
       "    </tr>\n",
       "  </thead>\n",
       "  <tbody>\n",
       "    <tr>\n",
       "      <th>0</th>\n",
       "      <td>23386787</td>\n",
       "      <td>U.T. Student Membership</td>\n",
       "      <td>16935</td>\n",
       "      <td>2021-01-05 12:37:32 UTC</td>\n",
       "      <td>4062</td>\n",
       "      <td>Lakeshore/Pleasant Valley</td>\n",
       "      <td>4062</td>\n",
       "      <td>Lakeshore/Pleasant Valley</td>\n",
       "      <td>25</td>\n",
       "    </tr>\n",
       "    <tr>\n",
       "      <th>1</th>\n",
       "      <td>23386724</td>\n",
       "      <td>Local31</td>\n",
       "      <td>19918</td>\n",
       "      <td>2021-01-05 12:17:51 UTC</td>\n",
       "      <td>3291</td>\n",
       "      <td>11th/San Jacinto</td>\n",
       "      <td>2561</td>\n",
       "      <td>12th/San Jacinto @ State Capitol Visitors Garage</td>\n",
       "      <td>40</td>\n",
       "    </tr>\n",
       "    <tr>\n",
       "      <th>2</th>\n",
       "      <td>23455589</td>\n",
       "      <td>Local365</td>\n",
       "      <td>174</td>\n",
       "      <td>2021-01-26 17:47:42 UTC</td>\n",
       "      <td>4059</td>\n",
       "      <td>Nash Hernandez/East @ RBJ South</td>\n",
       "      <td>3660</td>\n",
       "      <td>East 6th/Medina</td>\n",
       "      <td>7</td>\n",
       "    </tr>\n",
       "  </tbody>\n",
       "</table>\n",
       "</div>"
      ],
      "text/plain": [
       "         id          subscriber_type bikeid               start_time  \\\n",
       "0  23386787  U.T. Student Membership  16935  2021-01-05 12:37:32 UTC   \n",
       "1  23386724                  Local31  19918  2021-01-05 12:17:51 UTC   \n",
       "2  23455589                 Local365    174  2021-01-26 17:47:42 UTC   \n",
       "\n",
       "   start_station_id               start_station_name  end_station_id  \\\n",
       "0              4062        Lakeshore/Pleasant Valley            4062   \n",
       "1              3291                 11th/San Jacinto            2561   \n",
       "2              4059  Nash Hernandez/East @ RBJ South            3660   \n",
       "\n",
       "                                   end_station_name  duration_minutes  \n",
       "0                         Lakeshore/Pleasant Valley                25  \n",
       "1  12th/San Jacinto @ State Capitol Visitors Garage                40  \n",
       "2                                   East 6th/Medina                 7  "
      ]
     },
     "execution_count": 86,
     "metadata": {},
     "output_type": "execute_result"
    }
   ],
   "source": [
    "pd.read_sql_query(\"\"\"\n",
    "    SELECT *\n",
    "    FROM trips\n",
    "    WHERE start_time LIKE('2021-01%')\n",
    "    \"\"\",\n",
    "    conn).head(3)"
   ]
  },
  {
   "cell_type": "code",
   "execution_count": 87,
   "id": "3c779e06",
   "metadata": {},
   "outputs": [
    {
     "data": {
      "text/html": [
       "<div>\n",
       "<style scoped>\n",
       "    .dataframe tbody tr th:only-of-type {\n",
       "        vertical-align: middle;\n",
       "    }\n",
       "\n",
       "    .dataframe tbody tr th {\n",
       "        vertical-align: top;\n",
       "    }\n",
       "\n",
       "    .dataframe thead th {\n",
       "        text-align: right;\n",
       "    }\n",
       "</style>\n",
       "<table border=\"1\" class=\"dataframe\">\n",
       "  <thead>\n",
       "    <tr style=\"text-align: right;\">\n",
       "      <th></th>\n",
       "      <th>bikeid</th>\n",
       "      <th>duration_minutes</th>\n",
       "    </tr>\n",
       "  </thead>\n",
       "  <tbody>\n",
       "    <tr>\n",
       "      <th>2548</th>\n",
       "      <td>495</td>\n",
       "      <td>33.141414</td>\n",
       "    </tr>\n",
       "    <tr>\n",
       "      <th>3377</th>\n",
       "      <td>350</td>\n",
       "      <td>42.340000</td>\n",
       "    </tr>\n",
       "    <tr>\n",
       "      <th>2707</th>\n",
       "      <td>341</td>\n",
       "      <td>41.111437</td>\n",
       "    </tr>\n",
       "    <tr>\n",
       "      <th>3793</th>\n",
       "      <td>337</td>\n",
       "      <td>22.246291</td>\n",
       "    </tr>\n",
       "    <tr>\n",
       "      <th>3798</th>\n",
       "      <td>331</td>\n",
       "      <td>23.939577</td>\n",
       "    </tr>\n",
       "    <tr>\n",
       "      <th>...</th>\n",
       "      <td>...</td>\n",
       "      <td>...</td>\n",
       "    </tr>\n",
       "    <tr>\n",
       "      <th>2562</th>\n",
       "      <td>30</td>\n",
       "      <td>37.033333</td>\n",
       "    </tr>\n",
       "    <tr>\n",
       "      <th>3294</th>\n",
       "      <td>18</td>\n",
       "      <td>62.722222</td>\n",
       "    </tr>\n",
       "    <tr>\n",
       "      <th>4699</th>\n",
       "      <td>17</td>\n",
       "      <td>62.882353</td>\n",
       "    </tr>\n",
       "    <tr>\n",
       "      <th>4879</th>\n",
       "      <td>16</td>\n",
       "      <td>94.312500</td>\n",
       "    </tr>\n",
       "    <tr>\n",
       "      <th>4051</th>\n",
       "      <td>15</td>\n",
       "      <td>24.133333</td>\n",
       "    </tr>\n",
       "  </tbody>\n",
       "</table>\n",
       "<p>75 rows × 2 columns</p>\n",
       "</div>"
      ],
      "text/plain": [
       "      bikeid  duration_minutes\n",
       "2548     495         33.141414\n",
       "3377     350         42.340000\n",
       "2707     341         41.111437\n",
       "3793     337         22.246291\n",
       "3798     331         23.939577\n",
       "...      ...               ...\n",
       "2562      30         37.033333\n",
       "3294      18         62.722222\n",
       "4699      17         62.882353\n",
       "4879      16         94.312500\n",
       "4051      15         24.133333\n",
       "\n",
       "[75 rows x 2 columns]"
      ]
     },
     "execution_count": 87,
     "metadata": {},
     "output_type": "execute_result"
    }
   ],
   "source": [
    "test_period = \"http://127.0.0.1:5001/trips/period/2021-01\"\n",
    "res = requests.get(test_period)\n",
    "analisa_period = pd.DataFrame(res.json())\n",
    "analisa_period.sort_values(by='bikeid',ascending = False)"
   ]
  },
  {
   "cell_type": "code",
   "execution_count": 81,
   "id": "02efc2d9",
   "metadata": {},
   "outputs": [
    {
     "data": {
      "text/plain": [
       "(75, 2)"
      ]
     },
     "execution_count": 81,
     "metadata": {},
     "output_type": "execute_result"
    }
   ],
   "source": [
    "analisa_period.shape"
   ]
  },
  {
   "cell_type": "markdown",
   "id": "2fa179b6",
   "metadata": {},
   "source": [
    "**Insight :** \n",
    "1. pada bulan januari tahun 2021 terdapat penggunaan bike dari total 75 station\n",
    "2. stasiun terbanyak yaitu pada stasiun dengan kode 2548 dengan total penggunaan bike sebanyak 495 dengan rata-rata penggunaan 33 menit\n",
    "3. 5 stasiun yang paling banyak mendapatkan penggunaan bike urutan 1-5 yaitu dari stasiun dengan kode 2548, 3377, 2707, 3794, 3798\n",
    "4. Perlu dilakukan evaluasi strategi market pada stasiun dengan kode 4051, 4879, 4699, 3294 dan 2562 karena total penggunaan bike dibawah 30x dalam periode 1 bulan"
   ]
  },
  {
   "cell_type": "markdown",
   "id": "46bbfb18",
   "metadata": {},
   "source": [
    "# Submission\n",
    "\n",
    "After finishing your work of all the rubrics, the next step will be;\n",
    "\n",
    "1. Prepare your `Bikeshare API.ipynb` file that has been edited with your code and wrangling data.\n",
    "2. Prepare your `app.py` file for your Flask App. \n",
    "3. Submit your .ipynb and app.py file in your github repository. The dataset is optional to post since it has big size to post. \n",
    "\n"
   ]
  }
 ],
 "metadata": {
  "kernelspec": {
   "display_name": "myland",
   "language": "python",
   "name": "myland"
  },
  "language_info": {
   "codemirror_mode": {
    "name": "ipython",
    "version": 3
   },
   "file_extension": ".py",
   "mimetype": "text/x-python",
   "name": "python",
   "nbconvert_exporter": "python",
   "pygments_lexer": "ipython3",
   "version": "3.10.4"
  },
  "toc": {
   "base_numbering": 1,
   "nav_menu": {},
   "number_sections": true,
   "sideBar": true,
   "skip_h1_title": false,
   "title_cell": "Table of Contents",
   "title_sidebar": "Contents",
   "toc_cell": false,
   "toc_position": {},
   "toc_section_display": true,
   "toc_window_display": false
  },
  "toc-autonumbering": true
 },
 "nbformat": 4,
 "nbformat_minor": 5
}
